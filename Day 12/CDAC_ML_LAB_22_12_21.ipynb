{
 "cells": [
  {
   "cell_type": "code",
   "execution_count": 17,
   "metadata": {},
   "outputs": [],
   "source": [
    "import numpy as np\n",
    "import pandas as pd"
   ]
  },
  {
   "cell_type": "code",
   "execution_count": 18,
   "metadata": {},
   "outputs": [],
   "source": [
    "path = \"https://archive.ics.uci.edu/ml/machine-learning-databases/iris/iris.data\""
   ]
  },
  {
   "cell_type": "code",
   "execution_count": 19,
   "metadata": {},
   "outputs": [],
   "source": [
    "headernames = ['sepal-length', 'sepal-width', 'petal-length', 'petal-width', 'Class']"
   ]
  },
  {
   "cell_type": "code",
   "execution_count": 20,
   "metadata": {},
   "outputs": [
    {
     "name": "stdout",
     "output_type": "stream",
     "text": [
      "<class 'pandas.core.frame.DataFrame'>\n"
     ]
    },
    {
     "data": {
      "text/html": [
       "<div>\n",
       "<style scoped>\n",
       "    .dataframe tbody tr th:only-of-type {\n",
       "        vertical-align: middle;\n",
       "    }\n",
       "\n",
       "    .dataframe tbody tr th {\n",
       "        vertical-align: top;\n",
       "    }\n",
       "\n",
       "    .dataframe thead th {\n",
       "        text-align: right;\n",
       "    }\n",
       "</style>\n",
       "<table border=\"1\" class=\"dataframe\">\n",
       "  <thead>\n",
       "    <tr style=\"text-align: right;\">\n",
       "      <th></th>\n",
       "      <th>sepal-length</th>\n",
       "      <th>sepal-width</th>\n",
       "      <th>petal-length</th>\n",
       "      <th>petal-width</th>\n",
       "      <th>Class</th>\n",
       "    </tr>\n",
       "  </thead>\n",
       "  <tbody>\n",
       "    <tr>\n",
       "      <th>0</th>\n",
       "      <td>5.1</td>\n",
       "      <td>3.5</td>\n",
       "      <td>1.4</td>\n",
       "      <td>0.2</td>\n",
       "      <td>Iris-setosa</td>\n",
       "    </tr>\n",
       "    <tr>\n",
       "      <th>1</th>\n",
       "      <td>4.9</td>\n",
       "      <td>3.0</td>\n",
       "      <td>1.4</td>\n",
       "      <td>0.2</td>\n",
       "      <td>Iris-setosa</td>\n",
       "    </tr>\n",
       "    <tr>\n",
       "      <th>2</th>\n",
       "      <td>4.7</td>\n",
       "      <td>3.2</td>\n",
       "      <td>1.3</td>\n",
       "      <td>0.2</td>\n",
       "      <td>Iris-setosa</td>\n",
       "    </tr>\n",
       "    <tr>\n",
       "      <th>3</th>\n",
       "      <td>4.6</td>\n",
       "      <td>3.1</td>\n",
       "      <td>1.5</td>\n",
       "      <td>0.2</td>\n",
       "      <td>Iris-setosa</td>\n",
       "    </tr>\n",
       "    <tr>\n",
       "      <th>4</th>\n",
       "      <td>5.0</td>\n",
       "      <td>3.6</td>\n",
       "      <td>1.4</td>\n",
       "      <td>0.2</td>\n",
       "      <td>Iris-setosa</td>\n",
       "    </tr>\n",
       "  </tbody>\n",
       "</table>\n",
       "</div>"
      ],
      "text/plain": [
       "   sepal-length  sepal-width  petal-length  petal-width        Class\n",
       "0           5.1          3.5           1.4          0.2  Iris-setosa\n",
       "1           4.9          3.0           1.4          0.2  Iris-setosa\n",
       "2           4.7          3.2           1.3          0.2  Iris-setosa\n",
       "3           4.6          3.1           1.5          0.2  Iris-setosa\n",
       "4           5.0          3.6           1.4          0.2  Iris-setosa"
      ]
     },
     "execution_count": 20,
     "metadata": {},
     "output_type": "execute_result"
    }
   ],
   "source": [
    "dataset = pd.read_csv(path, names = headernames)\n",
    "print(type(dataset))\n",
    "dataset.head()"
   ]
  },
  {
   "cell_type": "code",
   "execution_count": 21,
   "metadata": {},
   "outputs": [],
   "source": [
    "x = dataset.drop('Class',axis='columns')\n",
    "y = dataset.Class"
   ]
  },
  {
   "cell_type": "code",
   "execution_count": 22,
   "metadata": {},
   "outputs": [],
   "source": [
    "from sklearn.model_selection import train_test_split\n",
    "X_train, X_test, y_train, y_test = train_test_split(x,y,test_size=0.3)"
   ]
  },
  {
   "cell_type": "code",
   "execution_count": 23,
   "metadata": {},
   "outputs": [],
   "source": [
    "from sklearn.naive_bayes import GaussianNB\n",
    "model = GaussianNB()"
   ]
  },
  {
   "cell_type": "code",
   "execution_count": 24,
   "metadata": {},
   "outputs": [
    {
     "data": {
      "text/plain": [
       "GaussianNB()"
      ]
     },
     "execution_count": 24,
     "metadata": {},
     "output_type": "execute_result"
    }
   ],
   "source": [
    "model.fit(X_train,y_train)"
   ]
  },
  {
   "cell_type": "code",
   "execution_count": 25,
   "metadata": {},
   "outputs": [
    {
     "data": {
      "text/plain": [
       "0.9111111111111111"
      ]
     },
     "execution_count": 25,
     "metadata": {},
     "output_type": "execute_result"
    }
   ],
   "source": [
    "model.score(X_test,y_test)"
   ]
  },
  {
   "cell_type": "code",
   "execution_count": 26,
   "metadata": {},
   "outputs": [
    {
     "data": {
      "text/plain": [
       "array(['Iris-setosa', 'Iris-versicolor', 'Iris-setosa', 'Iris-virginica',\n",
       "       'Iris-setosa', 'Iris-versicolor', 'Iris-virginica',\n",
       "       'Iris-virginica', 'Iris-virginica', 'Iris-virginica',\n",
       "       'Iris-setosa', 'Iris-virginica', 'Iris-versicolor',\n",
       "       'Iris-versicolor', 'Iris-setosa', 'Iris-virginica', 'Iris-setosa',\n",
       "       'Iris-versicolor', 'Iris-versicolor', 'Iris-setosa', 'Iris-setosa',\n",
       "       'Iris-virginica', 'Iris-versicolor', 'Iris-versicolor',\n",
       "       'Iris-virginica', 'Iris-setosa', 'Iris-versicolor', 'Iris-setosa',\n",
       "       'Iris-versicolor', 'Iris-virginica', 'Iris-virginica',\n",
       "       'Iris-setosa', 'Iris-setosa', 'Iris-versicolor', 'Iris-virginica',\n",
       "       'Iris-virginica', 'Iris-setosa', 'Iris-setosa', 'Iris-setosa',\n",
       "       'Iris-virginica', 'Iris-versicolor', 'Iris-setosa',\n",
       "       'Iris-virginica', 'Iris-virginica', 'Iris-versicolor'],\n",
       "      dtype='<U15')"
      ]
     },
     "execution_count": 26,
     "metadata": {},
     "output_type": "execute_result"
    }
   ],
   "source": [
    "model.predict(X_test)"
   ]
  },
  {
   "cell_type": "code",
   "execution_count": 27,
   "metadata": {},
   "outputs": [
    {
     "data": {
      "text/plain": [
       "array([[1.00000000e+000, 2.86284579e-017, 1.17918863e-025],\n",
       "       [1.75168613e-060, 9.99452599e-001, 5.47401183e-004],\n",
       "       [1.00000000e+000, 3.22841449e-017, 7.53476457e-026],\n",
       "       [4.27417676e-162, 1.06991294e-005, 9.99989301e-001],\n",
       "       [1.00000000e+000, 1.08339543e-017, 4.43272957e-026],\n",
       "       [6.66806484e-079, 8.94028069e-001, 1.05971931e-001],\n",
       "       [1.07468132e-125, 1.44955471e-004, 9.99855045e-001],\n",
       "       [4.59354986e-116, 1.29795245e-002, 9.87020475e-001],\n",
       "       [1.59227238e-096, 3.47999724e-001, 6.52000276e-001],\n",
       "       [2.96153159e-172, 1.38544347e-007, 9.99999861e-001],\n",
       "       [1.00000000e+000, 4.35612439e-017, 2.88247707e-025],\n",
       "       [4.20864762e-170, 1.27875627e-009, 9.99999999e-001],\n",
       "       [1.23629402e-067, 9.92659624e-001, 7.34037551e-003],\n",
       "       [8.17570346e-076, 9.96216218e-001, 3.78378229e-003],\n",
       "       [1.00000000e+000, 1.40133342e-017, 1.64144225e-025],\n",
       "       [3.14129518e-089, 4.61119780e-001, 5.38880220e-001],\n",
       "       [1.00000000e+000, 1.47970567e-016, 9.57383951e-026],\n",
       "       [1.40966202e-070, 9.98222655e-001, 1.77734526e-003],\n",
       "       [1.21104833e-073, 9.66389753e-001, 3.36102467e-002],\n",
       "       [1.00000000e+000, 1.44527049e-016, 1.67237212e-025],\n",
       "       [1.00000000e+000, 1.62350677e-018, 2.16359783e-026],\n",
       "       [2.08101660e-224, 6.21212835e-012, 1.00000000e+000],\n",
       "       [2.68358416e-049, 9.99966841e-001, 3.31590737e-005],\n",
       "       [3.37148050e-078, 9.77924280e-001, 2.20757200e-002],\n",
       "       [2.86897467e-174, 1.79738081e-006, 9.99998203e-001],\n",
       "       [1.00000000e+000, 1.99574802e-015, 4.91258521e-024],\n",
       "       [1.07267539e-032, 9.99998589e-001, 1.41113494e-006],\n",
       "       [1.00000000e+000, 2.45228259e-015, 1.17614452e-024],\n",
       "       [4.30208324e-049, 9.99958442e-001, 4.15582160e-005],\n",
       "       [2.88966384e-244, 3.83357060e-012, 1.00000000e+000],\n",
       "       [2.70443809e-130, 1.44055548e-004, 9.99855944e-001],\n",
       "       [1.00000000e+000, 2.10763561e-016, 4.22736823e-025],\n",
       "       [1.00000000e+000, 3.84173060e-016, 1.01813995e-024],\n",
       "       [3.50099862e-052, 9.99948692e-001, 5.13075685e-005],\n",
       "       [4.08978119e-179, 3.54884031e-006, 9.99996451e-001],\n",
       "       [8.86926415e-173, 1.19747757e-009, 9.99999999e-001],\n",
       "       [1.00000000e+000, 1.91337874e-017, 8.98160133e-026],\n",
       "       [1.00000000e+000, 1.57082695e-016, 1.63498627e-025],\n",
       "       [1.00000000e+000, 4.51571927e-017, 1.99095385e-025],\n",
       "       [6.35986601e-133, 1.08935445e-003, 9.98910646e-001],\n",
       "       [4.89000556e-102, 5.92919693e-001, 4.07080307e-001],\n",
       "       [1.00000000e+000, 2.83776351e-017, 4.11887628e-026],\n",
       "       [2.37450533e-159, 5.70783751e-007, 9.99999429e-001],\n",
       "       [1.68811031e-100, 6.18495356e-002, 9.38150464e-001],\n",
       "       [2.47248084e-065, 9.98107695e-001, 1.89230512e-003]])"
      ]
     },
     "execution_count": 27,
     "metadata": {},
     "output_type": "execute_result"
    }
   ],
   "source": [
    "model.predict_proba(X_test)"
   ]
  },
  {
   "cell_type": "code",
   "execution_count": 28,
   "metadata": {},
   "outputs": [
    {
     "name": "stdout",
     "output_type": "stream",
     "text": [
      "[0.95238095 0.95238095 0.95238095 1.         0.95238095]\n"
     ]
    }
   ],
   "source": [
    "from sklearn.model_selection import cross_val_score\n",
    "a=cross_val_score(GaussianNB(),X_train, y_train, cv=5)\n",
    "print(a)"
   ]
  },
  {
   "cell_type": "code",
   "execution_count": 29,
   "metadata": {},
   "outputs": [
    {
     "data": {
      "text/plain": [
       "0.9619047619047618"
      ]
     },
     "execution_count": 29,
     "metadata": {},
     "output_type": "execute_result"
    }
   ],
   "source": [
    "np.mean(a)"
   ]
  },
  {
   "cell_type": "markdown",
   "metadata": {},
   "source": [
    "# Scaling"
   ]
  },
  {
   "cell_type": "code",
   "execution_count": 30,
   "metadata": {},
   "outputs": [],
   "source": [
    "from sklearn.preprocessing import StandardScaler"
   ]
  },
  {
   "cell_type": "code",
   "execution_count": 32,
   "metadata": {},
   "outputs": [],
   "source": [
    "scaler = StandardScaler()\n",
    "scaled = scaler.fit_transform(x)\n",
    "b=np.array(scaled)"
   ]
  },
  {
   "cell_type": "markdown",
   "metadata": {},
   "source": [
    "# VIF"
   ]
  },
  {
   "cell_type": "code",
   "execution_count": 33,
   "metadata": {},
   "outputs": [
    {
     "data": {
      "text/html": [
       "<div>\n",
       "<style scoped>\n",
       "    .dataframe tbody tr th:only-of-type {\n",
       "        vertical-align: middle;\n",
       "    }\n",
       "\n",
       "    .dataframe tbody tr th {\n",
       "        vertical-align: top;\n",
       "    }\n",
       "\n",
       "    .dataframe thead th {\n",
       "        text-align: right;\n",
       "    }\n",
       "</style>\n",
       "<table border=\"1\" class=\"dataframe\">\n",
       "  <thead>\n",
       "    <tr style=\"text-align: right;\">\n",
       "      <th></th>\n",
       "      <th>Features</th>\n",
       "      <th>VIF</th>\n",
       "    </tr>\n",
       "  </thead>\n",
       "  <tbody>\n",
       "    <tr>\n",
       "      <th>2</th>\n",
       "      <td>petal-length</td>\n",
       "      <td>31.40</td>\n",
       "    </tr>\n",
       "    <tr>\n",
       "      <th>3</th>\n",
       "      <td>petal-width</td>\n",
       "      <td>16.14</td>\n",
       "    </tr>\n",
       "    <tr>\n",
       "      <th>0</th>\n",
       "      <td>sepal-length</td>\n",
       "      <td>7.10</td>\n",
       "    </tr>\n",
       "    <tr>\n",
       "      <th>1</th>\n",
       "      <td>sepal-width</td>\n",
       "      <td>2.10</td>\n",
       "    </tr>\n",
       "  </tbody>\n",
       "</table>\n",
       "</div>"
      ],
      "text/plain": [
       "       Features    VIF\n",
       "2  petal-length  31.40\n",
       "3   petal-width  16.14\n",
       "0  sepal-length   7.10\n",
       "1   sepal-width   2.10"
      ]
     },
     "execution_count": 33,
     "metadata": {},
     "output_type": "execute_result"
    }
   ],
   "source": [
    "from statsmodels.stats.outliers_influence import variance_inflation_factor\n",
    "vif = pd.DataFrame()\n",
    "vif['Features'] = x.columns\n",
    "vif['VIF'] = [variance_inflation_factor(b, i) for i in range(b.shape[1])]\n",
    "vif['VIF'] = round(vif['VIF'], 2)\n",
    "vif = vif.sort_values(by = \"VIF\", ascending = False)\n",
    "vif\n"
   ]
  },
  {
   "cell_type": "code",
   "execution_count": 34,
   "metadata": {},
   "outputs": [],
   "source": [
    "x1 = dataset.drop(['Class','petal-length','petal-width'],axis='columns')\n",
    "y1 = dataset.Class"
   ]
  },
  {
   "cell_type": "code",
   "execution_count": 35,
   "metadata": {},
   "outputs": [
    {
     "data": {
      "text/html": [
       "<div>\n",
       "<style scoped>\n",
       "    .dataframe tbody tr th:only-of-type {\n",
       "        vertical-align: middle;\n",
       "    }\n",
       "\n",
       "    .dataframe tbody tr th {\n",
       "        vertical-align: top;\n",
       "    }\n",
       "\n",
       "    .dataframe thead th {\n",
       "        text-align: right;\n",
       "    }\n",
       "</style>\n",
       "<table border=\"1\" class=\"dataframe\">\n",
       "  <thead>\n",
       "    <tr style=\"text-align: right;\">\n",
       "      <th></th>\n",
       "      <th>sepal-length</th>\n",
       "      <th>sepal-width</th>\n",
       "    </tr>\n",
       "  </thead>\n",
       "  <tbody>\n",
       "    <tr>\n",
       "      <th>0</th>\n",
       "      <td>5.1</td>\n",
       "      <td>3.5</td>\n",
       "    </tr>\n",
       "    <tr>\n",
       "      <th>1</th>\n",
       "      <td>4.9</td>\n",
       "      <td>3.0</td>\n",
       "    </tr>\n",
       "    <tr>\n",
       "      <th>2</th>\n",
       "      <td>4.7</td>\n",
       "      <td>3.2</td>\n",
       "    </tr>\n",
       "    <tr>\n",
       "      <th>3</th>\n",
       "      <td>4.6</td>\n",
       "      <td>3.1</td>\n",
       "    </tr>\n",
       "    <tr>\n",
       "      <th>4</th>\n",
       "      <td>5.0</td>\n",
       "      <td>3.6</td>\n",
       "    </tr>\n",
       "    <tr>\n",
       "      <th>...</th>\n",
       "      <td>...</td>\n",
       "      <td>...</td>\n",
       "    </tr>\n",
       "    <tr>\n",
       "      <th>145</th>\n",
       "      <td>6.7</td>\n",
       "      <td>3.0</td>\n",
       "    </tr>\n",
       "    <tr>\n",
       "      <th>146</th>\n",
       "      <td>6.3</td>\n",
       "      <td>2.5</td>\n",
       "    </tr>\n",
       "    <tr>\n",
       "      <th>147</th>\n",
       "      <td>6.5</td>\n",
       "      <td>3.0</td>\n",
       "    </tr>\n",
       "    <tr>\n",
       "      <th>148</th>\n",
       "      <td>6.2</td>\n",
       "      <td>3.4</td>\n",
       "    </tr>\n",
       "    <tr>\n",
       "      <th>149</th>\n",
       "      <td>5.9</td>\n",
       "      <td>3.0</td>\n",
       "    </tr>\n",
       "  </tbody>\n",
       "</table>\n",
       "<p>150 rows × 2 columns</p>\n",
       "</div>"
      ],
      "text/plain": [
       "     sepal-length  sepal-width\n",
       "0             5.1          3.5\n",
       "1             4.9          3.0\n",
       "2             4.7          3.2\n",
       "3             4.6          3.1\n",
       "4             5.0          3.6\n",
       "..            ...          ...\n",
       "145           6.7          3.0\n",
       "146           6.3          2.5\n",
       "147           6.5          3.0\n",
       "148           6.2          3.4\n",
       "149           5.9          3.0\n",
       "\n",
       "[150 rows x 2 columns]"
      ]
     },
     "execution_count": 35,
     "metadata": {},
     "output_type": "execute_result"
    }
   ],
   "source": [
    "x1"
   ]
  },
  {
   "cell_type": "code",
   "execution_count": 36,
   "metadata": {},
   "outputs": [],
   "source": [
    "from sklearn.model_selection import train_test_split\n",
    "X_train, X_test, y_train, y_test = train_test_split(x1,y1,test_size=0.3)"
   ]
  },
  {
   "cell_type": "code",
   "execution_count": 37,
   "metadata": {},
   "outputs": [
    {
     "data": {
      "text/plain": [
       "GaussianNB()"
      ]
     },
     "execution_count": 37,
     "metadata": {},
     "output_type": "execute_result"
    }
   ],
   "source": [
    "model.fit(X_train,y_train)"
   ]
  },
  {
   "cell_type": "code",
   "execution_count": 38,
   "metadata": {},
   "outputs": [
    {
     "data": {
      "text/plain": [
       "0.8222222222222222"
      ]
     },
     "execution_count": 38,
     "metadata": {},
     "output_type": "execute_result"
    }
   ],
   "source": [
    "model.score(X_test,y_test)"
   ]
  },
  {
   "cell_type": "code",
   "execution_count": 39,
   "metadata": {},
   "outputs": [
    {
     "data": {
      "text/plain": [
       "array(['Iris-versicolor', 'Iris-versicolor', 'Iris-versicolor',\n",
       "       'Iris-setosa', 'Iris-virginica', 'Iris-setosa', 'Iris-virginica',\n",
       "       'Iris-virginica', 'Iris-versicolor', 'Iris-setosa', 'Iris-setosa',\n",
       "       'Iris-setosa', 'Iris-versicolor', 'Iris-versicolor',\n",
       "       'Iris-versicolor', 'Iris-virginica', 'Iris-virginica',\n",
       "       'Iris-virginica', 'Iris-versicolor', 'Iris-versicolor',\n",
       "       'Iris-setosa', 'Iris-virginica', 'Iris-virginica', 'Iris-setosa',\n",
       "       'Iris-setosa', 'Iris-setosa', 'Iris-setosa', 'Iris-versicolor',\n",
       "       'Iris-setosa', 'Iris-versicolor', 'Iris-versicolor',\n",
       "       'Iris-virginica', 'Iris-setosa', 'Iris-versicolor',\n",
       "       'Iris-versicolor', 'Iris-setosa', 'Iris-setosa', 'Iris-setosa',\n",
       "       'Iris-setosa', 'Iris-virginica', 'Iris-virginica', 'Iris-setosa',\n",
       "       'Iris-setosa', 'Iris-virginica', 'Iris-setosa'], dtype='<U15')"
      ]
     },
     "execution_count": 39,
     "metadata": {},
     "output_type": "execute_result"
    }
   ],
   "source": [
    "model.predict(X_test)"
   ]
  },
  {
   "cell_type": "code",
   "execution_count": 40,
   "metadata": {},
   "outputs": [
    {
     "data": {
      "text/plain": [
       "array([[8.63967394e-02, 6.31614530e-01, 2.81988731e-01],\n",
       "       [3.62300063e-01, 4.65728956e-01, 1.71970981e-01],\n",
       "       [1.35949457e-03, 5.68049439e-01, 4.30591067e-01],\n",
       "       [8.40832992e-01, 1.11257198e-01, 4.79098106e-02],\n",
       "       [3.37745268e-05, 9.64326931e-02, 9.03533532e-01],\n",
       "       [9.55116562e-01, 1.63314433e-02, 2.85519947e-02],\n",
       "       [1.59357022e-05, 1.63773617e-01, 8.36210447e-01],\n",
       "       [1.22582491e-06, 8.74863720e-02, 9.12512402e-01],\n",
       "       [5.90758066e-02, 8.15770248e-01, 1.25153945e-01],\n",
       "       [9.51782462e-01, 2.64205801e-02, 2.17969577e-02],\n",
       "       [9.21410745e-01, 4.62599396e-02, 3.23293154e-02],\n",
       "       [9.65805122e-01, 1.46033132e-02, 1.95915648e-02],\n",
       "       [1.35536003e-02, 7.93249177e-01, 1.93197223e-01],\n",
       "       [1.35536003e-02, 7.93249177e-01, 1.93197223e-01],\n",
       "       [3.78792372e-02, 7.56466804e-01, 2.05653959e-01],\n",
       "       [1.09215448e-04, 3.24209819e-01, 6.75680965e-01],\n",
       "       [1.22582491e-06, 8.74863720e-02, 9.12512402e-01],\n",
       "       [4.33016072e-07, 4.60259908e-02, 9.53973576e-01],\n",
       "       [1.51628508e-01, 6.01963939e-01, 2.46407553e-01],\n",
       "       [4.81782929e-03, 5.53118858e-01, 4.42063313e-01],\n",
       "       [9.24867623e-01, 3.36577349e-02, 4.14746424e-02],\n",
       "       [1.59357022e-05, 1.63773617e-01, 8.36210447e-01],\n",
       "       [1.10959868e-12, 7.04381786e-03, 9.92956182e-01],\n",
       "       [9.94264274e-01, 8.49308682e-04, 4.88641764e-03],\n",
       "       [8.80176035e-01, 8.11529170e-02, 3.86710481e-02],\n",
       "       [8.95160926e-01, 6.68885204e-02, 3.79505539e-02],\n",
       "       [9.62038021e-01, 1.94211579e-02, 1.85408210e-02],\n",
       "       [1.48051569e-04, 7.09458824e-01, 2.90393125e-01],\n",
       "       [9.77044920e-01, 8.83410623e-03, 1.41209737e-02],\n",
       "       [2.70057722e-04, 6.24224361e-01, 3.75505582e-01],\n",
       "       [2.35930248e-01, 6.96484965e-01, 6.75847872e-02],\n",
       "       [1.65766432e-12, 4.62992653e-03, 9.95370073e-01],\n",
       "       [8.17937493e-01, 8.11539234e-02, 1.00908584e-01],\n",
       "       [9.57918056e-03, 8.26003718e-01, 1.64417101e-01],\n",
       "       [1.64789721e-01, 7.80629105e-01, 5.45811745e-02],\n",
       "       [9.07684826e-01, 5.41588324e-02, 3.81563411e-02],\n",
       "       [9.88343710e-01, 3.74977429e-03, 7.90651557e-03],\n",
       "       [9.65805122e-01, 1.46033132e-02, 1.95915648e-02],\n",
       "       [9.95711213e-01, 3.72145606e-05, 4.25157250e-03],\n",
       "       [1.19792486e-08, 3.50011302e-02, 9.64998858e-01],\n",
       "       [3.37745268e-05, 9.64326931e-02, 9.03533532e-01],\n",
       "       [9.70483060e-01, 1.05309332e-02, 1.89860066e-02],\n",
       "       [9.95759526e-01, 7.96544527e-04, 3.44392975e-03],\n",
       "       [1.78917038e-06, 2.30769418e-01, 7.69228793e-01],\n",
       "       [9.88183236e-01, 3.15034301e-03, 8.66642115e-03]])"
      ]
     },
     "execution_count": 40,
     "metadata": {},
     "output_type": "execute_result"
    }
   ],
   "source": [
    "model.predict_proba(X_test)"
   ]
  },
  {
   "cell_type": "code",
   "execution_count": 41,
   "metadata": {},
   "outputs": [
    {
     "name": "stdout",
     "output_type": "stream",
     "text": [
      "[0.66666667 0.85714286 0.71428571 0.76190476 0.76190476]\n"
     ]
    }
   ],
   "source": [
    "from sklearn.model_selection import cross_val_score\n",
    "a=cross_val_score(GaussianNB(),X_train, y_train, cv=5)\n",
    "print(a)"
   ]
  },
  {
   "cell_type": "code",
   "execution_count": 42,
   "metadata": {},
   "outputs": [
    {
     "data": {
      "text/plain": [
       "0.7523809523809524"
      ]
     },
     "execution_count": 42,
     "metadata": {},
     "output_type": "execute_result"
    }
   ],
   "source": [
    "np.mean(a)"
   ]
  },
  {
   "cell_type": "code",
   "execution_count": null,
   "metadata": {},
   "outputs": [],
   "source": []
  }
 ],
 "metadata": {
  "kernelspec": {
   "display_name": "Python 3",
   "language": "python",
   "name": "python3"
  },
  "language_info": {
   "codemirror_mode": {
    "name": "ipython",
    "version": 3
   },
   "file_extension": ".py",
   "mimetype": "text/x-python",
   "name": "python",
   "nbconvert_exporter": "python",
   "pygments_lexer": "ipython3",
   "version": "3.8.5"
  }
 },
 "nbformat": 4,
 "nbformat_minor": 4
}
