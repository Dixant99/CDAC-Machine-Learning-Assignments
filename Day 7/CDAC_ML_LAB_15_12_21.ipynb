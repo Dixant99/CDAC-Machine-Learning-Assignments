{
 "cells": [
  {
   "cell_type": "code",
   "execution_count": 1,
   "metadata": {},
   "outputs": [],
   "source": [
    "import numpy as np\n",
    "import pandas as pd\n",
    "import matplotlib.pyplot as plt\n",
    "import seaborn as sns"
   ]
  },
  {
   "cell_type": "code",
   "execution_count": 2,
   "metadata": {},
   "outputs": [],
   "source": [
    "media = pd.read_csv(\"D:/Dixant/CDAC/Machine Learning/15-12-21/mediacompany (1).csv\")"
   ]
  },
  {
   "cell_type": "code",
   "execution_count": 3,
   "metadata": {},
   "outputs": [
    {
     "data": {
      "text/html": [
       "<div>\n",
       "<style scoped>\n",
       "    .dataframe tbody tr th:only-of-type {\n",
       "        vertical-align: middle;\n",
       "    }\n",
       "\n",
       "    .dataframe tbody tr th {\n",
       "        vertical-align: top;\n",
       "    }\n",
       "\n",
       "    .dataframe thead th {\n",
       "        text-align: right;\n",
       "    }\n",
       "</style>\n",
       "<table border=\"1\" class=\"dataframe\">\n",
       "  <thead>\n",
       "    <tr style=\"text-align: right;\">\n",
       "      <th></th>\n",
       "      <th>Date</th>\n",
       "      <th>Views_show</th>\n",
       "      <th>Visitors</th>\n",
       "      <th>Views_platform</th>\n",
       "      <th>Ad_impression</th>\n",
       "      <th>Cricket_match_india</th>\n",
       "      <th>Character_A</th>\n",
       "      <th>Unnamed: 7</th>\n",
       "    </tr>\n",
       "  </thead>\n",
       "  <tbody>\n",
       "    <tr>\n",
       "      <th>0</th>\n",
       "      <td>3/1/2017</td>\n",
       "      <td>183738</td>\n",
       "      <td>1260228</td>\n",
       "      <td>1706478</td>\n",
       "      <td>1060860448</td>\n",
       "      <td>0</td>\n",
       "      <td>0</td>\n",
       "      <td>NaN</td>\n",
       "    </tr>\n",
       "    <tr>\n",
       "      <th>1</th>\n",
       "      <td>3/2/2017</td>\n",
       "      <td>193763</td>\n",
       "      <td>1270561</td>\n",
       "      <td>1690727</td>\n",
       "      <td>1031846645</td>\n",
       "      <td>0</td>\n",
       "      <td>0</td>\n",
       "      <td>NaN</td>\n",
       "    </tr>\n",
       "    <tr>\n",
       "      <th>2</th>\n",
       "      <td>3/3/2017</td>\n",
       "      <td>210479</td>\n",
       "      <td>1248183</td>\n",
       "      <td>1726157</td>\n",
       "      <td>1010867575</td>\n",
       "      <td>0</td>\n",
       "      <td>0</td>\n",
       "      <td>NaN</td>\n",
       "    </tr>\n",
       "    <tr>\n",
       "      <th>3</th>\n",
       "      <td>3/4/2017</td>\n",
       "      <td>240061</td>\n",
       "      <td>1492913</td>\n",
       "      <td>1855353</td>\n",
       "      <td>1079194579</td>\n",
       "      <td>1</td>\n",
       "      <td>0</td>\n",
       "      <td>NaN</td>\n",
       "    </tr>\n",
       "    <tr>\n",
       "      <th>4</th>\n",
       "      <td>3/5/2017</td>\n",
       "      <td>446314</td>\n",
       "      <td>1594712</td>\n",
       "      <td>2041418</td>\n",
       "      <td>1357736987</td>\n",
       "      <td>0</td>\n",
       "      <td>0</td>\n",
       "      <td>NaN</td>\n",
       "    </tr>\n",
       "  </tbody>\n",
       "</table>\n",
       "</div>"
      ],
      "text/plain": [
       "       Date  Views_show  Visitors  Views_platform  Ad_impression  \\\n",
       "0  3/1/2017      183738   1260228         1706478     1060860448   \n",
       "1  3/2/2017      193763   1270561         1690727     1031846645   \n",
       "2  3/3/2017      210479   1248183         1726157     1010867575   \n",
       "3  3/4/2017      240061   1492913         1855353     1079194579   \n",
       "4  3/5/2017      446314   1594712         2041418     1357736987   \n",
       "\n",
       "   Cricket_match_india  Character_A  Unnamed: 7  \n",
       "0                    0            0         NaN  \n",
       "1                    0            0         NaN  \n",
       "2                    0            0         NaN  \n",
       "3                    1            0         NaN  \n",
       "4                    0            0         NaN  "
      ]
     },
     "execution_count": 3,
     "metadata": {},
     "output_type": "execute_result"
    }
   ],
   "source": [
    "media.head()"
   ]
  },
  {
   "cell_type": "code",
   "execution_count": 4,
   "metadata": {},
   "outputs": [
    {
     "data": {
      "text/plain": [
       "(80, 8)"
      ]
     },
     "execution_count": 4,
     "metadata": {},
     "output_type": "execute_result"
    }
   ],
   "source": [
    "media.shape"
   ]
  },
  {
   "cell_type": "code",
   "execution_count": 5,
   "metadata": {},
   "outputs": [
    {
     "name": "stdout",
     "output_type": "stream",
     "text": [
      "<class 'pandas.core.frame.DataFrame'>\n",
      "RangeIndex: 80 entries, 0 to 79\n",
      "Data columns (total 8 columns):\n",
      " #   Column               Non-Null Count  Dtype  \n",
      "---  ------               --------------  -----  \n",
      " 0   Date                 80 non-null     object \n",
      " 1   Views_show           80 non-null     int64  \n",
      " 2   Visitors             80 non-null     int64  \n",
      " 3   Views_platform       80 non-null     int64  \n",
      " 4   Ad_impression        80 non-null     int64  \n",
      " 5   Cricket_match_india  80 non-null     int64  \n",
      " 6   Character_A          80 non-null     int64  \n",
      " 7   Unnamed: 7           0 non-null      float64\n",
      "dtypes: float64(1), int64(6), object(1)\n",
      "memory usage: 5.1+ KB\n"
     ]
    }
   ],
   "source": [
    "media.info()"
   ]
  },
  {
   "cell_type": "code",
   "execution_count": 6,
   "metadata": {},
   "outputs": [],
   "source": [
    "media=media.drop('Unnamed: 7',1)"
   ]
  },
  {
   "cell_type": "code",
   "execution_count": 7,
   "metadata": {},
   "outputs": [],
   "source": [
    "media['Date'] = pd.to_datetime(media['Date'])\n",
    "media['day_of_week'] = media['Date'].dt.day_name()"
   ]
  },
  {
   "cell_type": "code",
   "execution_count": 8,
   "metadata": {},
   "outputs": [
    {
     "data": {
      "text/html": [
       "<div>\n",
       "<style scoped>\n",
       "    .dataframe tbody tr th:only-of-type {\n",
       "        vertical-align: middle;\n",
       "    }\n",
       "\n",
       "    .dataframe tbody tr th {\n",
       "        vertical-align: top;\n",
       "    }\n",
       "\n",
       "    .dataframe thead th {\n",
       "        text-align: right;\n",
       "    }\n",
       "</style>\n",
       "<table border=\"1\" class=\"dataframe\">\n",
       "  <thead>\n",
       "    <tr style=\"text-align: right;\">\n",
       "      <th></th>\n",
       "      <th>Date</th>\n",
       "      <th>Views_show</th>\n",
       "      <th>Visitors</th>\n",
       "      <th>Views_platform</th>\n",
       "      <th>Ad_impression</th>\n",
       "      <th>Cricket_match_india</th>\n",
       "      <th>Character_A</th>\n",
       "      <th>day_of_week</th>\n",
       "    </tr>\n",
       "  </thead>\n",
       "  <tbody>\n",
       "    <tr>\n",
       "      <th>0</th>\n",
       "      <td>2017-03-01</td>\n",
       "      <td>183738</td>\n",
       "      <td>1260228</td>\n",
       "      <td>1706478</td>\n",
       "      <td>1060860448</td>\n",
       "      <td>0</td>\n",
       "      <td>0</td>\n",
       "      <td>Wednesday</td>\n",
       "    </tr>\n",
       "    <tr>\n",
       "      <th>1</th>\n",
       "      <td>2017-03-02</td>\n",
       "      <td>193763</td>\n",
       "      <td>1270561</td>\n",
       "      <td>1690727</td>\n",
       "      <td>1031846645</td>\n",
       "      <td>0</td>\n",
       "      <td>0</td>\n",
       "      <td>Thursday</td>\n",
       "    </tr>\n",
       "    <tr>\n",
       "      <th>2</th>\n",
       "      <td>2017-03-03</td>\n",
       "      <td>210479</td>\n",
       "      <td>1248183</td>\n",
       "      <td>1726157</td>\n",
       "      <td>1010867575</td>\n",
       "      <td>0</td>\n",
       "      <td>0</td>\n",
       "      <td>Friday</td>\n",
       "    </tr>\n",
       "    <tr>\n",
       "      <th>3</th>\n",
       "      <td>2017-03-04</td>\n",
       "      <td>240061</td>\n",
       "      <td>1492913</td>\n",
       "      <td>1855353</td>\n",
       "      <td>1079194579</td>\n",
       "      <td>1</td>\n",
       "      <td>0</td>\n",
       "      <td>Saturday</td>\n",
       "    </tr>\n",
       "    <tr>\n",
       "      <th>4</th>\n",
       "      <td>2017-03-05</td>\n",
       "      <td>446314</td>\n",
       "      <td>1594712</td>\n",
       "      <td>2041418</td>\n",
       "      <td>1357736987</td>\n",
       "      <td>0</td>\n",
       "      <td>0</td>\n",
       "      <td>Sunday</td>\n",
       "    </tr>\n",
       "    <tr>\n",
       "      <th>...</th>\n",
       "      <td>...</td>\n",
       "      <td>...</td>\n",
       "      <td>...</td>\n",
       "      <td>...</td>\n",
       "      <td>...</td>\n",
       "      <td>...</td>\n",
       "      <td>...</td>\n",
       "      <td>...</td>\n",
       "    </tr>\n",
       "    <tr>\n",
       "      <th>75</th>\n",
       "      <td>2017-05-15</td>\n",
       "      <td>313945</td>\n",
       "      <td>1808684</td>\n",
       "      <td>2226788</td>\n",
       "      <td>1398052759</td>\n",
       "      <td>1</td>\n",
       "      <td>0</td>\n",
       "      <td>Monday</td>\n",
       "    </tr>\n",
       "    <tr>\n",
       "      <th>76</th>\n",
       "      <td>2017-05-16</td>\n",
       "      <td>185689</td>\n",
       "      <td>1814227</td>\n",
       "      <td>2199844</td>\n",
       "      <td>1311961223</td>\n",
       "      <td>1</td>\n",
       "      <td>0</td>\n",
       "      <td>Tuesday</td>\n",
       "    </tr>\n",
       "    <tr>\n",
       "      <th>77</th>\n",
       "      <td>2017-05-17</td>\n",
       "      <td>142260</td>\n",
       "      <td>1755803</td>\n",
       "      <td>2225752</td>\n",
       "      <td>1248266254</td>\n",
       "      <td>1</td>\n",
       "      <td>0</td>\n",
       "      <td>Wednesday</td>\n",
       "    </tr>\n",
       "    <tr>\n",
       "      <th>78</th>\n",
       "      <td>2017-05-18</td>\n",
       "      <td>135871</td>\n",
       "      <td>1749654</td>\n",
       "      <td>2302789</td>\n",
       "      <td>1284859759</td>\n",
       "      <td>1</td>\n",
       "      <td>0</td>\n",
       "      <td>Thursday</td>\n",
       "    </tr>\n",
       "    <tr>\n",
       "      <th>79</th>\n",
       "      <td>2017-05-19</td>\n",
       "      <td>108961</td>\n",
       "      <td>1746735</td>\n",
       "      <td>2279036</td>\n",
       "      <td>1246026846</td>\n",
       "      <td>1</td>\n",
       "      <td>0</td>\n",
       "      <td>Friday</td>\n",
       "    </tr>\n",
       "  </tbody>\n",
       "</table>\n",
       "<p>80 rows × 8 columns</p>\n",
       "</div>"
      ],
      "text/plain": [
       "         Date  Views_show  Visitors  Views_platform  Ad_impression  \\\n",
       "0  2017-03-01      183738   1260228         1706478     1060860448   \n",
       "1  2017-03-02      193763   1270561         1690727     1031846645   \n",
       "2  2017-03-03      210479   1248183         1726157     1010867575   \n",
       "3  2017-03-04      240061   1492913         1855353     1079194579   \n",
       "4  2017-03-05      446314   1594712         2041418     1357736987   \n",
       "..        ...         ...       ...             ...            ...   \n",
       "75 2017-05-15      313945   1808684         2226788     1398052759   \n",
       "76 2017-05-16      185689   1814227         2199844     1311961223   \n",
       "77 2017-05-17      142260   1755803         2225752     1248266254   \n",
       "78 2017-05-18      135871   1749654         2302789     1284859759   \n",
       "79 2017-05-19      108961   1746735         2279036     1246026846   \n",
       "\n",
       "    Cricket_match_india  Character_A day_of_week  \n",
       "0                     0            0   Wednesday  \n",
       "1                     0            0    Thursday  \n",
       "2                     0            0      Friday  \n",
       "3                     1            0    Saturday  \n",
       "4                     0            0      Sunday  \n",
       "..                  ...          ...         ...  \n",
       "75                    1            0      Monday  \n",
       "76                    1            0     Tuesday  \n",
       "77                    1            0   Wednesday  \n",
       "78                    1            0    Thursday  \n",
       "79                    1            0      Friday  \n",
       "\n",
       "[80 rows x 8 columns]"
      ]
     },
     "execution_count": 8,
     "metadata": {},
     "output_type": "execute_result"
    }
   ],
   "source": [
    "media"
   ]
  },
  {
   "cell_type": "code",
   "execution_count": 9,
   "metadata": {},
   "outputs": [
    {
     "data": {
      "text/plain": [
       "<AxesSubplot:xlabel='day_of_week', ylabel='Views_show'>"
      ]
     },
     "execution_count": 9,
     "metadata": {},
     "output_type": "execute_result"
    },
    {
     "data": {
      "image/png": "[encoded data removed]",
      "text/plain": [
       "<Figure size 432x288 with 1 Axes>"
      ]
     },
     "metadata": {
      "needs_background": "light"
     },
     "output_type": "display_data"
    }
   ],
   "source": [
    "sns.barplot(data = media,x='day_of_week', y='Views_show')"
   ]
  },
  {
   "cell_type": "code",
   "execution_count": 10,
   "metadata": {},
   "outputs": [],
   "source": [
    "dictionary={'Monday':0,'Tuesday':0,'Wednesday':0,'Thursday':0,\n",
    "            'Friday':0,'Saturday':1,'Sunday':1}"
   ]
  },
  {
   "cell_type": "code",
   "execution_count": 11,
   "metadata": {},
   "outputs": [],
   "source": [
    "media['weekday']=media['day_of_week'].map(dictionary)"
   ]
  },
  {
   "cell_type": "code",
   "execution_count": 12,
   "metadata": {},
   "outputs": [
    {
     "data": {
      "text/html": [
       "<div>\n",
       "<style scoped>\n",
       "    .dataframe tbody tr th:only-of-type {\n",
       "        vertical-align: middle;\n",
       "    }\n",
       "\n",
       "    .dataframe tbody tr th {\n",
       "        vertical-align: top;\n",
       "    }\n",
       "\n",
       "    .dataframe thead th {\n",
       "        text-align: right;\n",
       "    }\n",
       "</style>\n",
       "<table border=\"1\" class=\"dataframe\">\n",
       "  <thead>\n",
       "    <tr style=\"text-align: right;\">\n",
       "      <th></th>\n",
       "      <th>Date</th>\n",
       "      <th>Views_show</th>\n",
       "      <th>Visitors</th>\n",
       "      <th>Views_platform</th>\n",
       "      <th>Ad_impression</th>\n",
       "      <th>Cricket_match_india</th>\n",
       "      <th>Character_A</th>\n",
       "      <th>day_of_week</th>\n",
       "      <th>weekday</th>\n",
       "    </tr>\n",
       "  </thead>\n",
       "  <tbody>\n",
       "    <tr>\n",
       "      <th>0</th>\n",
       "      <td>2017-03-01</td>\n",
       "      <td>183738</td>\n",
       "      <td>1260228</td>\n",
       "      <td>1706478</td>\n",
       "      <td>1060860448</td>\n",
       "      <td>0</td>\n",
       "      <td>0</td>\n",
       "      <td>Wednesday</td>\n",
       "      <td>0</td>\n",
       "    </tr>\n",
       "    <tr>\n",
       "      <th>1</th>\n",
       "      <td>2017-03-02</td>\n",
       "      <td>193763</td>\n",
       "      <td>1270561</td>\n",
       "      <td>1690727</td>\n",
       "      <td>1031846645</td>\n",
       "      <td>0</td>\n",
       "      <td>0</td>\n",
       "      <td>Thursday</td>\n",
       "      <td>0</td>\n",
       "    </tr>\n",
       "    <tr>\n",
       "      <th>2</th>\n",
       "      <td>2017-03-03</td>\n",
       "      <td>210479</td>\n",
       "      <td>1248183</td>\n",
       "      <td>1726157</td>\n",
       "      <td>1010867575</td>\n",
       "      <td>0</td>\n",
       "      <td>0</td>\n",
       "      <td>Friday</td>\n",
       "      <td>0</td>\n",
       "    </tr>\n",
       "    <tr>\n",
       "      <th>3</th>\n",
       "      <td>2017-03-04</td>\n",
       "      <td>240061</td>\n",
       "      <td>1492913</td>\n",
       "      <td>1855353</td>\n",
       "      <td>1079194579</td>\n",
       "      <td>1</td>\n",
       "      <td>0</td>\n",
       "      <td>Saturday</td>\n",
       "      <td>1</td>\n",
       "    </tr>\n",
       "    <tr>\n",
       "      <th>4</th>\n",
       "      <td>2017-03-05</td>\n",
       "      <td>446314</td>\n",
       "      <td>1594712</td>\n",
       "      <td>2041418</td>\n",
       "      <td>1357736987</td>\n",
       "      <td>0</td>\n",
       "      <td>0</td>\n",
       "      <td>Sunday</td>\n",
       "      <td>1</td>\n",
       "    </tr>\n",
       "    <tr>\n",
       "      <th>...</th>\n",
       "      <td>...</td>\n",
       "      <td>...</td>\n",
       "      <td>...</td>\n",
       "      <td>...</td>\n",
       "      <td>...</td>\n",
       "      <td>...</td>\n",
       "      <td>...</td>\n",
       "      <td>...</td>\n",
       "      <td>...</td>\n",
       "    </tr>\n",
       "    <tr>\n",
       "      <th>75</th>\n",
       "      <td>2017-05-15</td>\n",
       "      <td>313945</td>\n",
       "      <td>1808684</td>\n",
       "      <td>2226788</td>\n",
       "      <td>1398052759</td>\n",
       "      <td>1</td>\n",
       "      <td>0</td>\n",
       "      <td>Monday</td>\n",
       "      <td>0</td>\n",
       "    </tr>\n",
       "    <tr>\n",
       "      <th>76</th>\n",
       "      <td>2017-05-16</td>\n",
       "      <td>185689</td>\n",
       "      <td>1814227</td>\n",
       "      <td>2199844</td>\n",
       "      <td>1311961223</td>\n",
       "      <td>1</td>\n",
       "      <td>0</td>\n",
       "      <td>Tuesday</td>\n",
       "      <td>0</td>\n",
       "    </tr>\n",
       "    <tr>\n",
       "      <th>77</th>\n",
       "      <td>2017-05-17</td>\n",
       "      <td>142260</td>\n",
       "      <td>1755803</td>\n",
       "      <td>2225752</td>\n",
       "      <td>1248266254</td>\n",
       "      <td>1</td>\n",
       "      <td>0</td>\n",
       "      <td>Wednesday</td>\n",
       "      <td>0</td>\n",
       "    </tr>\n",
       "    <tr>\n",
       "      <th>78</th>\n",
       "      <td>2017-05-18</td>\n",
       "      <td>135871</td>\n",
       "      <td>1749654</td>\n",
       "      <td>2302789</td>\n",
       "      <td>1284859759</td>\n",
       "      <td>1</td>\n",
       "      <td>0</td>\n",
       "      <td>Thursday</td>\n",
       "      <td>0</td>\n",
       "    </tr>\n",
       "    <tr>\n",
       "      <th>79</th>\n",
       "      <td>2017-05-19</td>\n",
       "      <td>108961</td>\n",
       "      <td>1746735</td>\n",
       "      <td>2279036</td>\n",
       "      <td>1246026846</td>\n",
       "      <td>1</td>\n",
       "      <td>0</td>\n",
       "      <td>Friday</td>\n",
       "      <td>0</td>\n",
       "    </tr>\n",
       "  </tbody>\n",
       "</table>\n",
       "<p>80 rows × 9 columns</p>\n",
       "</div>"
      ],
      "text/plain": [
       "         Date  Views_show  Visitors  Views_platform  Ad_impression  \\\n",
       "0  2017-03-01      183738   1260228         1706478     1060860448   \n",
       "1  2017-03-02      193763   1270561         1690727     1031846645   \n",
       "2  2017-03-03      210479   1248183         1726157     1010867575   \n",
       "3  2017-03-04      240061   1492913         1855353     1079194579   \n",
       "4  2017-03-05      446314   1594712         2041418     1357736987   \n",
       "..        ...         ...       ...             ...            ...   \n",
       "75 2017-05-15      313945   1808684         2226788     1398052759   \n",
       "76 2017-05-16      185689   1814227         2199844     1311961223   \n",
       "77 2017-05-17      142260   1755803         2225752     1248266254   \n",
       "78 2017-05-18      135871   1749654         2302789     1284859759   \n",
       "79 2017-05-19      108961   1746735         2279036     1246026846   \n",
       "\n",
       "    Cricket_match_india  Character_A day_of_week  weekday  \n",
       "0                     0            0   Wednesday        0  \n",
       "1                     0            0    Thursday        0  \n",
       "2                     0            0      Friday        0  \n",
       "3                     1            0    Saturday        1  \n",
       "4                     0            0      Sunday        1  \n",
       "..                  ...          ...         ...      ...  \n",
       "75                    1            0      Monday        0  \n",
       "76                    1            0     Tuesday        0  \n",
       "77                    1            0   Wednesday        0  \n",
       "78                    1            0    Thursday        0  \n",
       "79                    1            0      Friday        0  \n",
       "\n",
       "[80 rows x 9 columns]"
      ]
     },
     "execution_count": 12,
     "metadata": {},
     "output_type": "execute_result"
    }
   ],
   "source": [
    "media"
   ]
  },
  {
   "cell_type": "code",
   "execution_count": 13,
   "metadata": {},
   "outputs": [],
   "source": [
    "media=media.drop('Date',1)"
   ]
  },
  {
   "cell_type": "code",
   "execution_count": 14,
   "metadata": {},
   "outputs": [],
   "source": [
    "media=media.drop('day_of_week',1)"
   ]
  },
  {
   "cell_type": "code",
   "execution_count": 15,
   "metadata": {},
   "outputs": [
    {
     "data": {
      "text/html": [
       "<div>\n",
       "<style scoped>\n",
       "    .dataframe tbody tr th:only-of-type {\n",
       "        vertical-align: middle;\n",
       "    }\n",
       "\n",
       "    .dataframe tbody tr th {\n",
       "        vertical-align: top;\n",
       "    }\n",
       "\n",
       "    .dataframe thead th {\n",
       "        text-align: right;\n",
       "    }\n",
       "</style>\n",
       "<table border=\"1\" class=\"dataframe\">\n",
       "  <thead>\n",
       "    <tr style=\"text-align: right;\">\n",
       "      <th></th>\n",
       "      <th>Views_show</th>\n",
       "      <th>Visitors</th>\n",
       "      <th>Views_platform</th>\n",
       "      <th>Ad_impression</th>\n",
       "      <th>Cricket_match_india</th>\n",
       "      <th>Character_A</th>\n",
       "      <th>weekday</th>\n",
       "    </tr>\n",
       "  </thead>\n",
       "  <tbody>\n",
       "    <tr>\n",
       "      <th>0</th>\n",
       "      <td>183738</td>\n",
       "      <td>1260228</td>\n",
       "      <td>1706478</td>\n",
       "      <td>1060860448</td>\n",
       "      <td>0</td>\n",
       "      <td>0</td>\n",
       "      <td>0</td>\n",
       "    </tr>\n",
       "    <tr>\n",
       "      <th>1</th>\n",
       "      <td>193763</td>\n",
       "      <td>1270561</td>\n",
       "      <td>1690727</td>\n",
       "      <td>1031846645</td>\n",
       "      <td>0</td>\n",
       "      <td>0</td>\n",
       "      <td>0</td>\n",
       "    </tr>\n",
       "    <tr>\n",
       "      <th>2</th>\n",
       "      <td>210479</td>\n",
       "      <td>1248183</td>\n",
       "      <td>1726157</td>\n",
       "      <td>1010867575</td>\n",
       "      <td>0</td>\n",
       "      <td>0</td>\n",
       "      <td>0</td>\n",
       "    </tr>\n",
       "    <tr>\n",
       "      <th>3</th>\n",
       "      <td>240061</td>\n",
       "      <td>1492913</td>\n",
       "      <td>1855353</td>\n",
       "      <td>1079194579</td>\n",
       "      <td>1</td>\n",
       "      <td>0</td>\n",
       "      <td>1</td>\n",
       "    </tr>\n",
       "    <tr>\n",
       "      <th>4</th>\n",
       "      <td>446314</td>\n",
       "      <td>1594712</td>\n",
       "      <td>2041418</td>\n",
       "      <td>1357736987</td>\n",
       "      <td>0</td>\n",
       "      <td>0</td>\n",
       "      <td>1</td>\n",
       "    </tr>\n",
       "    <tr>\n",
       "      <th>...</th>\n",
       "      <td>...</td>\n",
       "      <td>...</td>\n",
       "      <td>...</td>\n",
       "      <td>...</td>\n",
       "      <td>...</td>\n",
       "      <td>...</td>\n",
       "      <td>...</td>\n",
       "    </tr>\n",
       "    <tr>\n",
       "      <th>75</th>\n",
       "      <td>313945</td>\n",
       "      <td>1808684</td>\n",
       "      <td>2226788</td>\n",
       "      <td>1398052759</td>\n",
       "      <td>1</td>\n",
       "      <td>0</td>\n",
       "      <td>0</td>\n",
       "    </tr>\n",
       "    <tr>\n",
       "      <th>76</th>\n",
       "      <td>185689</td>\n",
       "      <td>1814227</td>\n",
       "      <td>2199844</td>\n",
       "      <td>1311961223</td>\n",
       "      <td>1</td>\n",
       "      <td>0</td>\n",
       "      <td>0</td>\n",
       "    </tr>\n",
       "    <tr>\n",
       "      <th>77</th>\n",
       "      <td>142260</td>\n",
       "      <td>1755803</td>\n",
       "      <td>2225752</td>\n",
       "      <td>1248266254</td>\n",
       "      <td>1</td>\n",
       "      <td>0</td>\n",
       "      <td>0</td>\n",
       "    </tr>\n",
       "    <tr>\n",
       "      <th>78</th>\n",
       "      <td>135871</td>\n",
       "      <td>1749654</td>\n",
       "      <td>2302789</td>\n",
       "      <td>1284859759</td>\n",
       "      <td>1</td>\n",
       "      <td>0</td>\n",
       "      <td>0</td>\n",
       "    </tr>\n",
       "    <tr>\n",
       "      <th>79</th>\n",
       "      <td>108961</td>\n",
       "      <td>1746735</td>\n",
       "      <td>2279036</td>\n",
       "      <td>1246026846</td>\n",
       "      <td>1</td>\n",
       "      <td>0</td>\n",
       "      <td>0</td>\n",
       "    </tr>\n",
       "  </tbody>\n",
       "</table>\n",
       "<p>80 rows × 7 columns</p>\n",
       "</div>"
      ],
      "text/plain": [
       "    Views_show  Visitors  Views_platform  Ad_impression  Cricket_match_india  \\\n",
       "0       183738   1260228         1706478     1060860448                    0   \n",
       "1       193763   1270561         1690727     1031846645                    0   \n",
       "2       210479   1248183         1726157     1010867575                    0   \n",
       "3       240061   1492913         1855353     1079194579                    1   \n",
       "4       446314   1594712         2041418     1357736987                    0   \n",
       "..         ...       ...             ...            ...                  ...   \n",
       "75      313945   1808684         2226788     1398052759                    1   \n",
       "76      185689   1814227         2199844     1311961223                    1   \n",
       "77      142260   1755803         2225752     1248266254                    1   \n",
       "78      135871   1749654         2302789     1284859759                    1   \n",
       "79      108961   1746735         2279036     1246026846                    1   \n",
       "\n",
       "    Character_A  weekday  \n",
       "0             0        0  \n",
       "1             0        0  \n",
       "2             0        0  \n",
       "3             0        1  \n",
       "4             0        1  \n",
       "..          ...      ...  \n",
       "75            0        0  \n",
       "76            0        0  \n",
       "77            0        0  \n",
       "78            0        0  \n",
       "79            0        0  \n",
       "\n",
       "[80 rows x 7 columns]"
      ]
     },
     "execution_count": 15,
     "metadata": {},
     "output_type": "execute_result"
    }
   ],
   "source": [
    "media"
   ]
  },
  {
   "cell_type": "code",
   "execution_count": 16,
   "metadata": {},
   "outputs": [
    {
     "data": {
      "text/html": [
       "<div>\n",
       "<style scoped>\n",
       "    .dataframe tbody tr th:only-of-type {\n",
       "        vertical-align: middle;\n",
       "    }\n",
       "\n",
       "    .dataframe tbody tr th {\n",
       "        vertical-align: top;\n",
       "    }\n",
       "\n",
       "    .dataframe thead th {\n",
       "        text-align: right;\n",
       "    }\n",
       "</style>\n",
       "<table border=\"1\" class=\"dataframe\">\n",
       "  <thead>\n",
       "    <tr style=\"text-align: right;\">\n",
       "      <th></th>\n",
       "      <th>Views_show</th>\n",
       "      <th>Visitors</th>\n",
       "      <th>Views_platform</th>\n",
       "      <th>Ad_impression</th>\n",
       "      <th>Cricket_match_india</th>\n",
       "      <th>Character_A</th>\n",
       "      <th>weekday</th>\n",
       "    </tr>\n",
       "  </thead>\n",
       "  <tbody>\n",
       "    <tr>\n",
       "      <th>count</th>\n",
       "      <td>80.000000</td>\n",
       "      <td>8.000000e+01</td>\n",
       "      <td>8.000000e+01</td>\n",
       "      <td>8.000000e+01</td>\n",
       "      <td>80.000000</td>\n",
       "      <td>80.000000</td>\n",
       "      <td>80.000000</td>\n",
       "    </tr>\n",
       "    <tr>\n",
       "      <th>mean</th>\n",
       "      <td>289902.625000</td>\n",
       "      <td>1.699066e+06</td>\n",
       "      <td>2.222401e+06</td>\n",
       "      <td>1.442374e+09</td>\n",
       "      <td>0.100000</td>\n",
       "      <td>0.375000</td>\n",
       "      <td>0.275000</td>\n",
       "    </tr>\n",
       "    <tr>\n",
       "      <th>std</th>\n",
       "      <td>154924.323585</td>\n",
       "      <td>2.311571e+05</td>\n",
       "      <td>2.913510e+05</td>\n",
       "      <td>2.983186e+08</td>\n",
       "      <td>0.301893</td>\n",
       "      <td>0.487177</td>\n",
       "      <td>0.449331</td>\n",
       "    </tr>\n",
       "    <tr>\n",
       "      <th>min</th>\n",
       "      <td>102520.000000</td>\n",
       "      <td>1.248183e+06</td>\n",
       "      <td>1.690727e+06</td>\n",
       "      <td>1.010868e+09</td>\n",
       "      <td>0.000000</td>\n",
       "      <td>0.000000</td>\n",
       "      <td>0.000000</td>\n",
       "    </tr>\n",
       "    <tr>\n",
       "      <th>25%</th>\n",
       "      <td>185353.250000</td>\n",
       "      <td>1.550766e+06</td>\n",
       "      <td>2.010816e+06</td>\n",
       "      <td>1.207911e+09</td>\n",
       "      <td>0.000000</td>\n",
       "      <td>0.000000</td>\n",
       "      <td>0.000000</td>\n",
       "    </tr>\n",
       "    <tr>\n",
       "      <th>50%</th>\n",
       "      <td>235807.000000</td>\n",
       "      <td>1.698843e+06</td>\n",
       "      <td>2.226270e+06</td>\n",
       "      <td>1.385931e+09</td>\n",
       "      <td>0.000000</td>\n",
       "      <td>0.000000</td>\n",
       "      <td>0.000000</td>\n",
       "    </tr>\n",
       "    <tr>\n",
       "      <th>75%</th>\n",
       "      <td>350079.000000</td>\n",
       "      <td>1.817895e+06</td>\n",
       "      <td>2.388837e+06</td>\n",
       "      <td>1.632416e+09</td>\n",
       "      <td>0.000000</td>\n",
       "      <td>1.000000</td>\n",
       "      <td>1.000000</td>\n",
       "    </tr>\n",
       "    <tr>\n",
       "      <th>max</th>\n",
       "      <td>758631.000000</td>\n",
       "      <td>2.344650e+06</td>\n",
       "      <td>3.064422e+06</td>\n",
       "      <td>2.424203e+09</td>\n",
       "      <td>1.000000</td>\n",
       "      <td>1.000000</td>\n",
       "      <td>1.000000</td>\n",
       "    </tr>\n",
       "  </tbody>\n",
       "</table>\n",
       "</div>"
      ],
      "text/plain": [
       "          Views_show      Visitors  Views_platform  Ad_impression  \\\n",
       "count      80.000000  8.000000e+01    8.000000e+01   8.000000e+01   \n",
       "mean   289902.625000  1.699066e+06    2.222401e+06   1.442374e+09   \n",
       "std    154924.323585  2.311571e+05    2.913510e+05   2.983186e+08   \n",
       "min    102520.000000  1.248183e+06    1.690727e+06   1.010868e+09   \n",
       "25%    185353.250000  1.550766e+06    2.010816e+06   1.207911e+09   \n",
       "50%    235807.000000  1.698843e+06    2.226270e+06   1.385931e+09   \n",
       "75%    350079.000000  1.817895e+06    2.388837e+06   1.632416e+09   \n",
       "max    758631.000000  2.344650e+06    3.064422e+06   2.424203e+09   \n",
       "\n",
       "       Cricket_match_india  Character_A    weekday  \n",
       "count            80.000000    80.000000  80.000000  \n",
       "mean              0.100000     0.375000   0.275000  \n",
       "std               0.301893     0.487177   0.449331  \n",
       "min               0.000000     0.000000   0.000000  \n",
       "25%               0.000000     0.000000   0.000000  \n",
       "50%               0.000000     0.000000   0.000000  \n",
       "75%               0.000000     1.000000   1.000000  \n",
       "max               1.000000     1.000000   1.000000  "
      ]
     },
     "execution_count": 16,
     "metadata": {},
     "output_type": "execute_result"
    }
   ],
   "source": [
    "media.describe()"
   ]
  },
  {
   "cell_type": "code",
   "execution_count": 17,
   "metadata": {},
   "outputs": [
    {
     "data": {
      "image/png": "[encoded data removed]",
      "text/plain": [
       "<Figure size 432x288 with 2 Axes>"
      ]
     },
     "metadata": {
      "needs_background": "light"
     },
     "output_type": "display_data"
    }
   ],
   "source": [
    "sns.heatmap(media.corr(), annot = True)\n",
    "plt.show()"
   ]
  },
  {
   "cell_type": "code",
   "execution_count": 18,
   "metadata": {},
   "outputs": [
    {
     "data": {
      "image/png": "[encoded data removed]",
      "text/plain": [
       "<Figure size 720x864 with 3 Axes>"
      ]
     },
     "metadata": {
      "needs_background": "light"
     },
     "output_type": "display_data"
    }
   ],
   "source": [
    "plt.figure(figsize=(10, 12))\n",
    "plt.subplot(2,2,1)\n",
    "sns.barplot(x = 'Cricket_match_india', y = 'Views_show', data = media)\n",
    "plt.subplot(2,2,2)\n",
    "sns.barplot(x = 'Character_A', y = 'Views_show', data = media)\n",
    "plt.subplot(2,2,3)\n",
    "sns.barplot(x = 'weekday', y = 'Views_show', data = media)\n",
    "plt.show()"
   ]
  },
  {
   "cell_type": "code",
   "execution_count": 19,
   "metadata": {},
   "outputs": [
    {
     "data": {
      "image/png": "[encoded data removed]",
      "text/plain": [
       "<Figure size 1260x1260 with 56 Axes>"
      ]
     },
     "metadata": {
      "needs_background": "light"
     },
     "output_type": "display_data"
    }
   ],
   "source": [
    "sns.pairplot(media)\n",
    "plt.show()"
   ]
  },
  {
   "cell_type": "code",
   "execution_count": 60,
   "metadata": {},
   "outputs": [],
   "source": [
    "from sklearn.model_selection import train_test_split\n",
    "df_train, df_test = train_test_split(media, train_size = 0.7, test_size = 0.3, random_state=80)"
   ]
  },
  {
   "cell_type": "code",
   "execution_count": 61,
   "metadata": {},
   "outputs": [],
   "source": [
    "from sklearn.preprocessing import MinMaxScaler"
   ]
  },
  {
   "cell_type": "code",
   "execution_count": 62,
   "metadata": {},
   "outputs": [],
   "source": [
    "scaler = MinMaxScaler()"
   ]
  },
  {
   "cell_type": "code",
   "execution_count": 63,
   "metadata": {},
   "outputs": [
    {
     "name": "stderr",
     "output_type": "stream",
     "text": [
      "<ipython-input-63-7a5f6862c07a>:2: SettingWithCopyWarning: \n",
      "A value is trying to be set on a copy of a slice from a DataFrame.\n",
      "Try using .loc[row_indexer,col_indexer] = value instead\n",
      "\n",
      "See the caveats in the documentation: https://pandas.pydata.org/pandas-docs/stable/user_guide/indexing.html#returning-a-view-versus-a-copy\n",
      "  df_train[num_vars] = scaler.fit_transform(df_train[num_vars])\n",
      "C:\\Users\\divya\\anaconda3\\lib\\site-packages\\pandas\\core\\indexing.py:1736: SettingWithCopyWarning: \n",
      "A value is trying to be set on a copy of a slice from a DataFrame.\n",
      "Try using .loc[row_indexer,col_indexer] = value instead\n",
      "\n",
      "See the caveats in the documentation: https://pandas.pydata.org/pandas-docs/stable/user_guide/indexing.html#returning-a-view-versus-a-copy\n",
      "  isetter(loc, value[:, i].tolist())\n"
     ]
    }
   ],
   "source": [
    "num_vars = ['Views_show', 'Visitors', 'Views_platform', 'Ad_impression',]\n",
    "df_train[num_vars] = scaler.fit_transform(df_train[num_vars])"
   ]
  },
  {
   "cell_type": "code",
   "execution_count": 64,
   "metadata": {},
   "outputs": [
    {
     "data": {
      "text/html": [
       "<div>\n",
       "<style scoped>\n",
       "    .dataframe tbody tr th:only-of-type {\n",
       "        vertical-align: middle;\n",
       "    }\n",
       "\n",
       "    .dataframe tbody tr th {\n",
       "        vertical-align: top;\n",
       "    }\n",
       "\n",
       "    .dataframe thead th {\n",
       "        text-align: right;\n",
       "    }\n",
       "</style>\n",
       "<table border=\"1\" class=\"dataframe\">\n",
       "  <thead>\n",
       "    <tr style=\"text-align: right;\">\n",
       "      <th></th>\n",
       "      <th>Views_show</th>\n",
       "      <th>Visitors</th>\n",
       "      <th>Views_platform</th>\n",
       "      <th>Ad_impression</th>\n",
       "      <th>Cricket_match_india</th>\n",
       "      <th>Character_A</th>\n",
       "      <th>weekday</th>\n",
       "    </tr>\n",
       "  </thead>\n",
       "  <tbody>\n",
       "    <tr>\n",
       "      <th>21</th>\n",
       "      <td>0.107848</td>\n",
       "      <td>0.189497</td>\n",
       "      <td>0.201117</td>\n",
       "      <td>0.292451</td>\n",
       "      <td>0</td>\n",
       "      <td>0</td>\n",
       "      <td>0</td>\n",
       "    </tr>\n",
       "    <tr>\n",
       "      <th>52</th>\n",
       "      <td>0.407306</td>\n",
       "      <td>0.812585</td>\n",
       "      <td>0.738107</td>\n",
       "      <td>0.218558</td>\n",
       "      <td>0</td>\n",
       "      <td>1</td>\n",
       "      <td>1</td>\n",
       "    </tr>\n",
       "    <tr>\n",
       "      <th>73</th>\n",
       "      <td>0.229699</td>\n",
       "      <td>0.586319</td>\n",
       "      <td>0.472819</td>\n",
       "      <td>0.113769</td>\n",
       "      <td>1</td>\n",
       "      <td>0</td>\n",
       "      <td>1</td>\n",
       "    </tr>\n",
       "    <tr>\n",
       "      <th>19</th>\n",
       "      <td>0.270320</td>\n",
       "      <td>0.240304</td>\n",
       "      <td>0.169836</td>\n",
       "      <td>0.399703</td>\n",
       "      <td>0</td>\n",
       "      <td>0</td>\n",
       "      <td>0</td>\n",
       "    </tr>\n",
       "    <tr>\n",
       "      <th>33</th>\n",
       "      <td>0.481838</td>\n",
       "      <td>0.370294</td>\n",
       "      <td>0.390269</td>\n",
       "      <td>0.811857</td>\n",
       "      <td>0</td>\n",
       "      <td>1</td>\n",
       "      <td>0</td>\n",
       "    </tr>\n",
       "  </tbody>\n",
       "</table>\n",
       "</div>"
      ],
      "text/plain": [
       "    Views_show  Visitors  Views_platform  Ad_impression  Cricket_match_india  \\\n",
       "21    0.107848  0.189497        0.201117       0.292451                    0   \n",
       "52    0.407306  0.812585        0.738107       0.218558                    0   \n",
       "73    0.229699  0.586319        0.472819       0.113769                    1   \n",
       "19    0.270320  0.240304        0.169836       0.399703                    0   \n",
       "33    0.481838  0.370294        0.390269       0.811857                    0   \n",
       "\n",
       "    Character_A  weekday  \n",
       "21            0        0  \n",
       "52            1        1  \n",
       "73            0        1  \n",
       "19            0        0  \n",
       "33            1        0  "
      ]
     },
     "execution_count": 64,
     "metadata": {},
     "output_type": "execute_result"
    }
   ],
   "source": [
    "df_train.head()"
   ]
  },
  {
   "cell_type": "code",
   "execution_count": 65,
   "metadata": {},
   "outputs": [
    {
     "data": {
      "text/html": [
       "<div>\n",
       "<style scoped>\n",
       "    .dataframe tbody tr th:only-of-type {\n",
       "        vertical-align: middle;\n",
       "    }\n",
       "\n",
       "    .dataframe tbody tr th {\n",
       "        vertical-align: top;\n",
       "    }\n",
       "\n",
       "    .dataframe thead th {\n",
       "        text-align: right;\n",
       "    }\n",
       "</style>\n",
       "<table border=\"1\" class=\"dataframe\">\n",
       "  <thead>\n",
       "    <tr style=\"text-align: right;\">\n",
       "      <th></th>\n",
       "      <th>Views_show</th>\n",
       "      <th>Visitors</th>\n",
       "      <th>Views_platform</th>\n",
       "      <th>Ad_impression</th>\n",
       "      <th>Cricket_match_india</th>\n",
       "      <th>Character_A</th>\n",
       "      <th>weekday</th>\n",
       "    </tr>\n",
       "  </thead>\n",
       "  <tbody>\n",
       "    <tr>\n",
       "      <th>count</th>\n",
       "      <td>56.000000</td>\n",
       "      <td>56.000000</td>\n",
       "      <td>56.000000</td>\n",
       "      <td>56.000000</td>\n",
       "      <td>56.000000</td>\n",
       "      <td>56.000000</td>\n",
       "      <td>56.000000</td>\n",
       "    </tr>\n",
       "    <tr>\n",
       "      <th>mean</th>\n",
       "      <td>0.304713</td>\n",
       "      <td>0.411615</td>\n",
       "      <td>0.406301</td>\n",
       "      <td>0.311883</td>\n",
       "      <td>0.107143</td>\n",
       "      <td>0.428571</td>\n",
       "      <td>0.339286</td>\n",
       "    </tr>\n",
       "    <tr>\n",
       "      <th>std</th>\n",
       "      <td>0.259293</td>\n",
       "      <td>0.220192</td>\n",
       "      <td>0.224151</td>\n",
       "      <td>0.234403</td>\n",
       "      <td>0.312094</td>\n",
       "      <td>0.499350</td>\n",
       "      <td>0.477752</td>\n",
       "    </tr>\n",
       "    <tr>\n",
       "      <th>min</th>\n",
       "      <td>0.000000</td>\n",
       "      <td>0.000000</td>\n",
       "      <td>0.000000</td>\n",
       "      <td>0.000000</td>\n",
       "      <td>0.000000</td>\n",
       "      <td>0.000000</td>\n",
       "      <td>0.000000</td>\n",
       "    </tr>\n",
       "    <tr>\n",
       "      <th>25%</th>\n",
       "      <td>0.120733</td>\n",
       "      <td>0.280368</td>\n",
       "      <td>0.233015</td>\n",
       "      <td>0.121009</td>\n",
       "      <td>0.000000</td>\n",
       "      <td>0.000000</td>\n",
       "      <td>0.000000</td>\n",
       "    </tr>\n",
       "    <tr>\n",
       "      <th>50%</th>\n",
       "      <td>0.210378</td>\n",
       "      <td>0.397597</td>\n",
       "      <td>0.395528</td>\n",
       "      <td>0.236010</td>\n",
       "      <td>0.000000</td>\n",
       "      <td>0.000000</td>\n",
       "      <td>0.000000</td>\n",
       "    </tr>\n",
       "    <tr>\n",
       "      <th>75%</th>\n",
       "      <td>0.410019</td>\n",
       "      <td>0.515615</td>\n",
       "      <td>0.546725</td>\n",
       "      <td>0.440964</td>\n",
       "      <td>0.000000</td>\n",
       "      <td>1.000000</td>\n",
       "      <td>1.000000</td>\n",
       "    </tr>\n",
       "    <tr>\n",
       "      <th>max</th>\n",
       "      <td>1.000000</td>\n",
       "      <td>1.000000</td>\n",
       "      <td>1.000000</td>\n",
       "      <td>1.000000</td>\n",
       "      <td>1.000000</td>\n",
       "      <td>1.000000</td>\n",
       "      <td>1.000000</td>\n",
       "    </tr>\n",
       "  </tbody>\n",
       "</table>\n",
       "</div>"
      ],
      "text/plain": [
       "       Views_show   Visitors  Views_platform  Ad_impression  \\\n",
       "count   56.000000  56.000000       56.000000      56.000000   \n",
       "mean     0.304713   0.411615        0.406301       0.311883   \n",
       "std      0.259293   0.220192        0.224151       0.234403   \n",
       "min      0.000000   0.000000        0.000000       0.000000   \n",
       "25%      0.120733   0.280368        0.233015       0.121009   \n",
       "50%      0.210378   0.397597        0.395528       0.236010   \n",
       "75%      0.410019   0.515615        0.546725       0.440964   \n",
       "max      1.000000   1.000000        1.000000       1.000000   \n",
       "\n",
       "       Cricket_match_india  Character_A    weekday  \n",
       "count            56.000000    56.000000  56.000000  \n",
       "mean              0.107143     0.428571   0.339286  \n",
       "std               0.312094     0.499350   0.477752  \n",
       "min               0.000000     0.000000   0.000000  \n",
       "25%               0.000000     0.000000   0.000000  \n",
       "50%               0.000000     0.000000   0.000000  \n",
       "75%               0.000000     1.000000   1.000000  \n",
       "max               1.000000     1.000000   1.000000  "
      ]
     },
     "execution_count": 65,
     "metadata": {},
     "output_type": "execute_result"
    }
   ],
   "source": [
    "df_train.describe()"
   ]
  },
  {
   "cell_type": "code",
   "execution_count": 66,
   "metadata": {},
   "outputs": [
    {
     "data": {
      "image/png": "[encoded data removed]",
      "text/plain": [
       "<Figure size 432x288 with 2 Axes>"
      ]
     },
     "metadata": {
      "needs_background": "light"
     },
     "output_type": "display_data"
    }
   ],
   "source": [
    "plt.figure()\n",
    "sns.heatmap(df_train.corr(), annot = True)\n",
    "plt.show()"
   ]
  },
  {
   "cell_type": "code",
   "execution_count": 67,
   "metadata": {},
   "outputs": [],
   "source": [
    "y_train = df_train.pop('Views_show')\n",
    "X_train = df_train"
   ]
  },
  {
   "cell_type": "code",
   "execution_count": 68,
   "metadata": {},
   "outputs": [
    {
     "name": "stdout",
     "output_type": "stream",
     "text": [
      "21    0.107848\n",
      "52    0.407306\n",
      "73    0.229699\n",
      "19    0.270320\n",
      "33    0.481838\n",
      "36    0.176467\n",
      "57    0.093769\n",
      "26    0.545597\n",
      "70    0.060633\n",
      "27    0.421996\n",
      "78    0.050831\n",
      "54    0.375680\n",
      "43    0.158845\n",
      "31    0.296066\n",
      "20    0.171552\n",
      "16    0.101667\n",
      "44    0.200859\n",
      "17    0.227600\n",
      "1     0.139066\n",
      "45    0.662281\n",
      "77    0.060569\n",
      "24    0.203603\n",
      "69    0.175688\n",
      "46    1.000000\n",
      "48    0.211126\n",
      "34    0.393440\n",
      "53    0.930114\n",
      "66    0.270602\n",
      "39    0.897025\n",
      "30    0.273103\n",
      "74    0.806940\n",
      "59    0.249296\n",
      "32    0.879427\n",
      "71    0.011708\n",
      "7     0.118567\n",
      "72    0.000000\n",
      "8     0.116261\n",
      "25    0.835290\n",
      "14    0.124714\n",
      "63    0.090884\n",
      "35    0.217030\n",
      "75    0.322240\n",
      "51    0.121455\n",
      "4     0.523988\n",
      "42    0.133769\n",
      "9     0.150371\n",
      "64    0.061868\n",
      "5     0.366519\n",
      "15    0.045555\n",
      "23    0.158982\n",
      "3     0.209631\n",
      "50    0.101437\n",
      "10    0.177464\n",
      "38    0.553050\n",
      "60    0.674115\n",
      "47    0.418159\n",
      "Name: Views_show, dtype: float64\n",
      "    Visitors  Views_platform  Ad_impression  Cricket_match_india  Character_A  \\\n",
      "21  0.189497        0.201117       0.292451                    0            0   \n",
      "52  0.812585        0.738107       0.218558                    0            1   \n",
      "73  0.586319        0.472819       0.113769                    1            0   \n",
      "19  0.240304        0.169836       0.399703                    0            0   \n",
      "33  0.370294        0.390269       0.811857                    0            1   \n",
      "36  0.297257        0.350552       0.429557                    0            1   \n",
      "57  0.467269        0.445989       0.132646                    0            0   \n",
      "26  0.318516        0.345403       0.644234                    0            1   \n",
      "70  0.478520        0.412049       0.141846                    0            0   \n",
      "27  0.339797        0.400787       0.573521                    0            1   \n",
      "78  0.446046        0.445559       0.181716                    1            0   \n",
      "54  0.735690        0.632860       0.401009                    0            0   \n",
      "43  0.319110        0.450216       0.236484                    0            1   \n",
      "31  0.385705        0.360579       0.453872                    0            1   \n",
      "20  0.249445        0.236106       0.375544                    0            0   \n",
      "16  0.156006        0.142106       0.101161                    0            0   \n",
      "44  0.397634        0.541574       0.235536                    0            1   \n",
      "17  0.290676        0.237134       0.213760                    0            0   \n",
      "1   0.000000        0.000000       0.000000                    0            0   \n",
      "45  0.602208        0.804368       0.479902                    0            1   \n",
      "77  0.451771        0.389479       0.155434                    1            0   \n",
      "24  0.379825        0.295076       0.314580                    0            1   \n",
      "69  0.512485        0.453152       0.208175                    0            0   \n",
      "46  0.703425        0.905007       0.689966                    0            1   \n",
      "48  0.504216        0.583986       0.335092                    0            1   \n",
      "34  0.424992        0.478117       0.675780                    0            1   \n",
      "53  1.000000        1.000000       0.617027                    0            1   \n",
      "66  0.694154        0.533504       0.223310                    0            0   \n",
      "39  0.661659        0.754143       0.783193                    0            1   \n",
      "30  0.296032        0.223744       0.377311                    0            1   \n",
      "74  0.805515        0.664504       0.418114                    1            0   \n",
      "59  0.635580        0.562175       0.121239                    0            0   \n",
      "32  0.588401        0.615321       1.000000                    0            1   \n",
      "71  0.389818        0.331066       0.082349                    0            0   \n",
      "7   0.077202        0.076239       0.037080                    0            0   \n",
      "72  0.397560        0.323664       0.092890                    0            0   \n",
      "8   0.069703        0.075293       0.025704                    0            0   \n",
      "25  0.608409        0.564198       0.808830                    0            1   \n",
      "14  0.130443        0.149688       0.113098                    0            0   \n",
      "63  0.474513        0.428154       0.165481                    0            0   \n",
      "35  0.321564        0.359202       0.472996                    0            1   \n",
      "75  0.501004        0.390233       0.263012                    1            0   \n",
      "51  0.502878        0.506901       0.209643                    0            1   \n",
      "4   0.301792        0.255290       0.234057                    0            0   \n",
      "42  0.305228        0.430106       0.269744                    0            1   \n",
      "9   0.068876        0.105001       0.035471                    0            0   \n",
      "64  0.429114        0.381185       0.120322                    0            0   \n",
      "5   0.055980        0.037718       0.077841                    0            0   \n",
      "15  0.115045        0.128892       0.086501                    0            0   \n",
      "23  0.177580        0.199830       0.266018                    0            0   \n",
      "3   0.207015        0.119842       0.034006                    1            0   \n",
      "50  0.479275        0.509220       0.225782                    0            1   \n",
      "10  0.214475        0.171474       0.063241                    0            0   \n",
      "38  0.525005        0.620562       0.509690                    0            1   \n",
      "60  0.853284        0.757609       0.478684                    0            0   \n",
      "47  0.503760        0.595858       0.436661                    0            1   \n",
      "\n",
      "    weekday  \n",
      "21        0  \n",
      "52        1  \n",
      "73        1  \n",
      "19        0  \n",
      "33        0  \n",
      "36        0  \n",
      "57        0  \n",
      "26        0  \n",
      "70        0  \n",
      "27        0  \n",
      "78        0  \n",
      "54        0  \n",
      "43        0  \n",
      "31        1  \n",
      "20        0  \n",
      "16        0  \n",
      "44        0  \n",
      "17        1  \n",
      "1         0  \n",
      "45        1  \n",
      "77        0  \n",
      "24        1  \n",
      "69        0  \n",
      "46        1  \n",
      "48        0  \n",
      "34        0  \n",
      "53        1  \n",
      "66        1  \n",
      "39        1  \n",
      "30        0  \n",
      "74        1  \n",
      "59        1  \n",
      "32        1  \n",
      "71        0  \n",
      "7         0  \n",
      "72        0  \n",
      "8         0  \n",
      "25        1  \n",
      "14        0  \n",
      "63        0  \n",
      "35        0  \n",
      "75        0  \n",
      "51        0  \n",
      "4         1  \n",
      "42        0  \n",
      "9         0  \n",
      "64        0  \n",
      "5         0  \n",
      "15        0  \n",
      "23        0  \n",
      "3         1  \n",
      "50        0  \n",
      "10        1  \n",
      "38        1  \n",
      "60        1  \n",
      "47        0  \n"
     ]
    }
   ],
   "source": [
    "print(y_train)\n",
    "print(X_train)"
   ]
  },
  {
   "cell_type": "markdown",
   "metadata": {},
   "source": [
    "# model1: Ad_impression"
   ]
  },
  {
   "cell_type": "code",
   "execution_count": 69,
   "metadata": {},
   "outputs": [],
   "source": [
    "import statsmodels.api as sm\n",
    "X_train_lm = sm.add_constant(X_train[['Ad_impression']])\n",
    "lr = sm.OLS(y_train, X_train_lm).fit()"
   ]
  },
  {
   "cell_type": "code",
   "execution_count": 70,
   "metadata": {},
   "outputs": [
    {
     "data": {
      "text/plain": [
       "const            0.030298\n",
       "Ad_impression    0.879865\n",
       "dtype: float64"
      ]
     },
     "execution_count": 70,
     "metadata": {},
     "output_type": "execute_result"
    }
   ],
   "source": [
    "lr.params"
   ]
  },
  {
   "cell_type": "code",
   "execution_count": 71,
   "metadata": {},
   "outputs": [
    {
     "data": {
      "image/png": "[encoded data removed]",
      "text/plain": [
       "<Figure size 432x288 with 1 Axes>"
      ]
     },
     "metadata": {
      "needs_background": "light"
     },
     "output_type": "display_data"
    }
   ],
   "source": [
    "plt.scatter(X_train_lm.iloc[:, 1], y_train)\n",
    "plt.plot(X_train_lm.iloc[:, 1], lr.params['const'] + 0.814983*X_train_lm.iloc[:, 1], 'r')\n",
    "plt.show()"
   ]
  },
  {
   "cell_type": "code",
   "execution_count": 72,
   "metadata": {},
   "outputs": [
    {
     "name": "stdout",
     "output_type": "stream",
     "text": [
      "                            OLS Regression Results                            \n",
      "==============================================================================\n",
      "Dep. Variable:             Views_show   R-squared:                       0.633\n",
      "Model:                            OLS   Adj. R-squared:                  0.626\n",
      "Method:                 Least Squares   F-statistic:                     93.01\n",
      "Date:                Wed, 15 Dec 2021   Prob (F-statistic):           2.43e-13\n",
      "Time:                        22:34:37   Log-Likelihood:                 24.675\n",
      "No. Observations:                  56   AIC:                            -45.35\n",
      "Df Residuals:                      54   BIC:                            -41.30\n",
      "Df Model:                           1                                         \n",
      "Covariance Type:            nonrobust                                         \n",
      "=================================================================================\n",
      "                    coef    std err          t      P>|t|      [0.025      0.975]\n",
      "---------------------------------------------------------------------------------\n",
      "const             0.0303      0.035      0.854      0.397      -0.041       0.101\n",
      "Ad_impression     0.8799      0.091      9.644      0.000       0.697       1.063\n",
      "==============================================================================\n",
      "Omnibus:                        5.438   Durbin-Watson:                   2.087\n",
      "Prob(Omnibus):                  0.066   Jarque-Bera (JB):                5.035\n",
      "Skew:                           0.734   Prob(JB):                       0.0807\n",
      "Kurtosis:                       3.021   Cond. No.                         4.75\n",
      "==============================================================================\n",
      "\n",
      "Notes:\n",
      "[1] Standard Errors assume that the covariance matrix of the errors is correctly specified.\n"
     ]
    }
   ],
   "source": [
    "print(lr.summary())"
   ]
  },
  {
   "cell_type": "markdown",
   "metadata": {},
   "source": [
    "# Model2: Ad_impression, Views_platform"
   ]
  },
  {
   "cell_type": "code",
   "execution_count": 73,
   "metadata": {},
   "outputs": [],
   "source": [
    "X_train_lm = sm.add_constant(X_train[['Ad_impression','Views_platform']])\n",
    "lr = sm.OLS(y_train, X_train_lm).fit()"
   ]
  },
  {
   "cell_type": "code",
   "execution_count": 74,
   "metadata": {},
   "outputs": [
    {
     "data": {
      "text/plain": [
       "const            -0.053455\n",
       "Ad_impression     0.682997\n",
       "Views_platform    0.357254\n",
       "dtype: float64"
      ]
     },
     "execution_count": 74,
     "metadata": {},
     "output_type": "execute_result"
    }
   ],
   "source": [
    "lr.params"
   ]
  },
  {
   "cell_type": "code",
   "execution_count": 75,
   "metadata": {},
   "outputs": [
    {
     "name": "stdout",
     "output_type": "stream",
     "text": [
      "                            OLS Regression Results                            \n",
      "==============================================================================\n",
      "Dep. Variable:             Views_show   R-squared:                       0.696\n",
      "Model:                            OLS   Adj. R-squared:                  0.685\n",
      "Method:                 Least Squares   F-statistic:                     60.78\n",
      "Date:                Wed, 15 Dec 2021   Prob (F-statistic):           1.91e-14\n",
      "Time:                        22:34:37   Log-Likelihood:                 30.008\n",
      "No. Observations:                  56   AIC:                            -54.02\n",
      "Df Residuals:                      53   BIC:                            -47.94\n",
      "Df Model:                           2                                         \n",
      "Covariance Type:            nonrobust                                         \n",
      "==================================================================================\n",
      "                     coef    std err          t      P>|t|      [0.025      0.975]\n",
      "----------------------------------------------------------------------------------\n",
      "const             -0.0535      0.041     -1.300      0.199      -0.136       0.029\n",
      "Ad_impression      0.6830      0.102      6.667      0.000       0.478       0.888\n",
      "Views_platform     0.3573      0.107      3.335      0.002       0.142       0.572\n",
      "==============================================================================\n",
      "Omnibus:                        4.773   Durbin-Watson:                   2.383\n",
      "Prob(Omnibus):                  0.092   Jarque-Bera (JB):                4.664\n",
      "Skew:                           0.695   Prob(JB):                       0.0971\n",
      "Kurtosis:                       2.740   Cond. No.                         7.69\n",
      "==============================================================================\n",
      "\n",
      "Notes:\n",
      "[1] Standard Errors assume that the covariance matrix of the errors is correctly specified.\n"
     ]
    }
   ],
   "source": [
    "print(lr.summary())"
   ]
  },
  {
   "cell_type": "code",
   "execution_count": 76,
   "metadata": {},
   "outputs": [],
   "source": [
    "X_train_lm = sm.add_constant(X_train[['Ad_impression','Views_platform','weekday']])\n",
    "lr = sm.OLS(y_train, X_train_lm).fit()"
   ]
  },
  {
   "cell_type": "code",
   "execution_count": 77,
   "metadata": {},
   "outputs": [
    {
     "data": {
      "text/plain": [
       "const            -0.039876\n",
       "Ad_impression     0.661213\n",
       "Views_platform    0.170350\n",
       "weekday           0.203823\n",
       "dtype: float64"
      ]
     },
     "execution_count": 77,
     "metadata": {},
     "output_type": "execute_result"
    }
   ],
   "source": [
    "lr.params"
   ]
  },
  {
   "cell_type": "code",
   "execution_count": 78,
   "metadata": {},
   "outputs": [
    {
     "name": "stdout",
     "output_type": "stream",
     "text": [
      "                            OLS Regression Results                            \n",
      "==============================================================================\n",
      "Dep. Variable:             Views_show   R-squared:                       0.807\n",
      "Model:                            OLS   Adj. R-squared:                  0.796\n",
      "Method:                 Least Squares   F-statistic:                     72.59\n",
      "Date:                Wed, 15 Dec 2021   Prob (F-statistic):           1.35e-18\n",
      "Time:                        22:34:38   Log-Likelihood:                 42.731\n",
      "No. Observations:                  56   AIC:                            -77.46\n",
      "Df Residuals:                      52   BIC:                            -69.36\n",
      "Df Model:                           3                                         \n",
      "Covariance Type:            nonrobust                                         \n",
      "==================================================================================\n",
      "                     coef    std err          t      P>|t|      [0.025      0.975]\n",
      "----------------------------------------------------------------------------------\n",
      "const             -0.0399      0.033     -1.202      0.235      -0.106       0.027\n",
      "Ad_impression      0.6612      0.083      8.015      0.000       0.496       0.827\n",
      "Views_platform     0.1703      0.093      1.838      0.072      -0.016       0.356\n",
      "weekday            0.2038      0.037      5.469      0.000       0.129       0.279\n",
      "==============================================================================\n",
      "Omnibus:                        6.845   Durbin-Watson:                   2.358\n",
      "Prob(Omnibus):                  0.033   Jarque-Bera (JB):                5.903\n",
      "Skew:                           0.738   Prob(JB):                       0.0523\n",
      "Kurtosis:                       3.591   Cond. No.                         8.37\n",
      "==============================================================================\n",
      "\n",
      "Notes:\n",
      "[1] Standard Errors assume that the covariance matrix of the errors is correctly specified.\n"
     ]
    }
   ],
   "source": [
    "print(lr.summary())"
   ]
  },
  {
   "cell_type": "code",
   "execution_count": 79,
   "metadata": {},
   "outputs": [],
   "source": [
    "list1=list(X_train.columns)"
   ]
  },
  {
   "cell_type": "code",
   "execution_count": 80,
   "metadata": {},
   "outputs": [],
   "source": [
    "X_train_lm = sm.add_constant(X_train[list1])\n",
    "lr = sm.OLS(y_train, X_train_lm).fit()"
   ]
  },
  {
   "cell_type": "code",
   "execution_count": 81,
   "metadata": {},
   "outputs": [
    {
     "data": {
      "text/plain": [
       "const                 -0.031205\n",
       "Visitors              -0.545845\n",
       "Views_platform         0.740130\n",
       "Ad_impression          0.772440\n",
       "Cricket_match_india    0.020553\n",
       "Character_A           -0.130308\n",
       "weekday                0.214019\n",
       "dtype: float64"
      ]
     },
     "execution_count": 81,
     "metadata": {},
     "output_type": "execute_result"
    }
   ],
   "source": [
    "lr.params"
   ]
  },
  {
   "cell_type": "code",
   "execution_count": 82,
   "metadata": {},
   "outputs": [
    {
     "name": "stdout",
     "output_type": "stream",
     "text": [
      "                            OLS Regression Results                            \n",
      "==============================================================================\n",
      "Dep. Variable:             Views_show   R-squared:                       0.834\n",
      "Model:                            OLS   Adj. R-squared:                  0.814\n",
      "Method:                 Least Squares   F-statistic:                     41.17\n",
      "Date:                Wed, 15 Dec 2021   Prob (F-statistic):           1.74e-17\n",
      "Time:                        22:34:38   Log-Likelihood:                 46.993\n",
      "No. Observations:                  56   AIC:                            -79.99\n",
      "Df Residuals:                      49   BIC:                            -65.81\n",
      "Df Model:                           6                                         \n",
      "Covariance Type:            nonrobust                                         \n",
      "=======================================================================================\n",
      "                          coef    std err          t      P>|t|      [0.025      0.975]\n",
      "---------------------------------------------------------------------------------------\n",
      "const                  -0.0312      0.034     -0.931      0.356      -0.099       0.036\n",
      "Visitors               -0.5458      0.256     -2.135      0.038      -1.060      -0.032\n",
      "Views_platform          0.7401      0.264      2.799      0.007       0.209       1.272\n",
      "Ad_impression           0.7724      0.095      8.145      0.000       0.582       0.963\n",
      "Cricket_match_india     0.0206      0.053      0.388      0.700      -0.086       0.127\n",
      "Character_A            -0.1303      0.050     -2.617      0.012      -0.230      -0.030\n",
      "weekday                 0.2140      0.038      5.689      0.000       0.138       0.290\n",
      "==============================================================================\n",
      "Omnibus:                        8.631   Durbin-Watson:                   2.276\n",
      "Prob(Omnibus):                  0.013   Jarque-Bera (JB):                7.995\n",
      "Skew:                           0.879   Prob(JB):                       0.0184\n",
      "Kurtosis:                       3.582   Cond. No.                         33.3\n",
      "==============================================================================\n",
      "\n",
      "Notes:\n",
      "[1] Standard Errors assume that the covariance matrix of the errors is correctly specified.\n"
     ]
    }
   ],
   "source": [
    "print(lr.summary())"
   ]
  },
  {
   "cell_type": "code",
   "execution_count": 83,
   "metadata": {},
   "outputs": [],
   "source": [
    "X_train_lm = sm.add_constant(X_train[['Ad_impression','weekday']])\n",
    "lr = sm.OLS(y_train, X_train_lm).fit()"
   ]
  },
  {
   "cell_type": "code",
   "execution_count": 84,
   "metadata": {},
   "outputs": [
    {
     "data": {
      "text/plain": [
       "const           -0.003685\n",
       "Ad_impression    0.739632\n",
       "weekday          0.229068\n",
       "dtype: float64"
      ]
     },
     "execution_count": 84,
     "metadata": {},
     "output_type": "execute_result"
    }
   ],
   "source": [
    "lr.params"
   ]
  },
  {
   "cell_type": "code",
   "execution_count": 85,
   "metadata": {},
   "outputs": [
    {
     "name": "stdout",
     "output_type": "stream",
     "text": [
      "                            OLS Regression Results                            \n",
      "==============================================================================\n",
      "Dep. Variable:             Views_show   R-squared:                       0.795\n",
      "Model:                            OLS   Adj. R-squared:                  0.787\n",
      "Method:                 Least Squares   F-statistic:                     102.6\n",
      "Date:                Wed, 15 Dec 2021   Prob (F-statistic):           5.97e-19\n",
      "Time:                        22:34:38   Log-Likelihood:                 40.970\n",
      "No. Observations:                  56   AIC:                            -75.94\n",
      "Df Residuals:                      53   BIC:                            -69.86\n",
      "Df Model:                           2                                         \n",
      "Covariance Type:            nonrobust                                         \n",
      "=================================================================================\n",
      "                    coef    std err          t      P>|t|      [0.025      0.975]\n",
      "---------------------------------------------------------------------------------\n",
      "const            -0.0037      0.027     -0.135      0.893      -0.058       0.051\n",
      "Ad_impression     0.7396      0.072     10.248      0.000       0.595       0.884\n",
      "weekday           0.2291      0.035      6.469      0.000       0.158       0.300\n",
      "==============================================================================\n",
      "Omnibus:                        4.325   Durbin-Watson:                   2.242\n",
      "Prob(Omnibus):                  0.115   Jarque-Bera (JB):                3.288\n",
      "Skew:                           0.516   Prob(JB):                        0.193\n",
      "Kurtosis:                       3.587   Cond. No.                         5.28\n",
      "==============================================================================\n",
      "\n",
      "Notes:\n",
      "[1] Standard Errors assume that the covariance matrix of the errors is correctly specified.\n"
     ]
    }
   ],
   "source": [
    "print(lr.summary())"
   ]
  },
  {
   "cell_type": "code",
   "execution_count": 86,
   "metadata": {},
   "outputs": [],
   "source": [
    "y_train_Views_show = lr.predict(X_train_lm)"
   ]
  },
  {
   "cell_type": "code",
   "execution_count": 87,
   "metadata": {},
   "outputs": [
    {
     "name": "stderr",
     "output_type": "stream",
     "text": [
      "C:\\Users\\divya\\anaconda3\\lib\\site-packages\\seaborn\\distributions.py:2551: FutureWarning: `distplot` is a deprecated function and will be removed in a future version. Please adapt your code to use either `displot` (a figure-level function with similar flexibility) or `histplot` (an axes-level function for histograms).\n",
      "  warnings.warn(msg, FutureWarning)\n"
     ]
    },
    {
     "data": {
      "text/plain": [
       "Text(0.5, 0, 'Errors')"
      ]
     },
     "execution_count": 87,
     "metadata": {},
     "output_type": "execute_result"
    },
    {
     "data": {
      "image/png": "[encoded data removed]",
      "text/plain": [
       "<Figure size 432x288 with 1 Axes>"
      ]
     },
     "metadata": {
      "needs_background": "light"
     },
     "output_type": "display_data"
    }
   ],
   "source": [
    "fig = plt.figure()\n",
    "sns.distplot((y_train - y_train_Views_show), bins = 20)\n",
    "fig.suptitle('Error Terms', fontsize = 20) # Plot heading \n",
    "plt.xlabel('Errors', fontsize = 18) "
   ]
  },
  {
   "cell_type": "code",
   "execution_count": 88,
   "metadata": {},
   "outputs": [
    {
     "name": "stderr",
     "output_type": "stream",
     "text": [
      "<ipython-input-88-f6c5fceb94c8>:2: SettingWithCopyWarning: \n",
      "A value is trying to be set on a copy of a slice from a DataFrame.\n",
      "Try using .loc[row_indexer,col_indexer] = value instead\n",
      "\n",
      "See the caveats in the documentation: https://pandas.pydata.org/pandas-docs/stable/user_guide/indexing.html#returning-a-view-versus-a-copy\n",
      "  df_test[num_vars] = scaler.transform(df_test[num_vars])\n",
      "C:\\Users\\divya\\anaconda3\\lib\\site-packages\\pandas\\core\\indexing.py:1736: SettingWithCopyWarning: \n",
      "A value is trying to be set on a copy of a slice from a DataFrame.\n",
      "Try using .loc[row_indexer,col_indexer] = value instead\n",
      "\n",
      "See the caveats in the documentation: https://pandas.pydata.org/pandas-docs/stable/user_guide/indexing.html#returning-a-view-versus-a-copy\n",
      "  isetter(loc, value[:, i].tolist())\n"
     ]
    }
   ],
   "source": [
    "num_vars = ['Views_show', 'Visitors', 'Views_platform', 'Ad_impression']\n",
    "df_test[num_vars] = scaler.transform(df_test[num_vars])"
   ]
  },
  {
   "cell_type": "code",
   "execution_count": 89,
   "metadata": {},
   "outputs": [
    {
     "data": {
      "text/html": [
       "<div>\n",
       "<style scoped>\n",
       "    .dataframe tbody tr th:only-of-type {\n",
       "        vertical-align: middle;\n",
       "    }\n",
       "\n",
       "    .dataframe tbody tr th {\n",
       "        vertical-align: top;\n",
       "    }\n",
       "\n",
       "    .dataframe thead th {\n",
       "        text-align: right;\n",
       "    }\n",
       "</style>\n",
       "<table border=\"1\" class=\"dataframe\">\n",
       "  <thead>\n",
       "    <tr style=\"text-align: right;\">\n",
       "      <th></th>\n",
       "      <th>Views_show</th>\n",
       "      <th>Visitors</th>\n",
       "      <th>Views_platform</th>\n",
       "      <th>Ad_impression</th>\n",
       "      <th>Cricket_match_india</th>\n",
       "      <th>Character_A</th>\n",
       "      <th>weekday</th>\n",
       "    </tr>\n",
       "  </thead>\n",
       "  <tbody>\n",
       "    <tr>\n",
       "      <th>count</th>\n",
       "      <td>24.000000</td>\n",
       "      <td>24.000000</td>\n",
       "      <td>24.000000</td>\n",
       "      <td>24.000000</td>\n",
       "      <td>24.000000</td>\n",
       "      <td>24.000000</td>\n",
       "      <td>24.000000</td>\n",
       "    </tr>\n",
       "    <tr>\n",
       "      <th>mean</th>\n",
       "      <td>0.240990</td>\n",
       "      <td>0.369389</td>\n",
       "      <td>0.342095</td>\n",
       "      <td>0.255085</td>\n",
       "      <td>0.083333</td>\n",
       "      <td>0.250000</td>\n",
       "      <td>0.125000</td>\n",
       "    </tr>\n",
       "    <tr>\n",
       "      <th>std</th>\n",
       "      <td>0.166634</td>\n",
       "      <td>0.204554</td>\n",
       "      <td>0.177057</td>\n",
       "      <td>0.154685</td>\n",
       "      <td>0.282330</td>\n",
       "      <td>0.442326</td>\n",
       "      <td>0.337832</td>\n",
       "    </tr>\n",
       "    <tr>\n",
       "      <th>min</th>\n",
       "      <td>0.009817</td>\n",
       "      <td>-0.020834</td>\n",
       "      <td>0.011466</td>\n",
       "      <td>-0.015067</td>\n",
       "      <td>0.000000</td>\n",
       "      <td>0.000000</td>\n",
       "      <td>0.000000</td>\n",
       "    </tr>\n",
       "    <tr>\n",
       "      <th>25%</th>\n",
       "      <td>0.138656</td>\n",
       "      <td>0.248284</td>\n",
       "      <td>0.233014</td>\n",
       "      <td>0.139481</td>\n",
       "      <td>0.000000</td>\n",
       "      <td>0.000000</td>\n",
       "      <td>0.000000</td>\n",
       "    </tr>\n",
       "    <tr>\n",
       "      <th>50%</th>\n",
       "      <td>0.183459</td>\n",
       "      <td>0.410842</td>\n",
       "      <td>0.366689</td>\n",
       "      <td>0.256835</td>\n",
       "      <td>0.000000</td>\n",
       "      <td>0.000000</td>\n",
       "      <td>0.000000</td>\n",
       "    </tr>\n",
       "    <tr>\n",
       "      <th>75%</th>\n",
       "      <td>0.290588</td>\n",
       "      <td>0.506776</td>\n",
       "      <td>0.444682</td>\n",
       "      <td>0.372075</td>\n",
       "      <td>0.000000</td>\n",
       "      <td>0.250000</td>\n",
       "      <td>0.000000</td>\n",
       "    </tr>\n",
       "    <tr>\n",
       "      <th>max</th>\n",
       "      <td>0.701746</td>\n",
       "      <td>0.831466</td>\n",
       "      <td>0.721525</td>\n",
       "      <td>0.490454</td>\n",
       "      <td>1.000000</td>\n",
       "      <td>1.000000</td>\n",
       "      <td>1.000000</td>\n",
       "    </tr>\n",
       "  </tbody>\n",
       "</table>\n",
       "</div>"
      ],
      "text/plain": [
       "       Views_show   Visitors  Views_platform  Ad_impression  \\\n",
       "count   24.000000  24.000000       24.000000      24.000000   \n",
       "mean     0.240990   0.369389        0.342095       0.255085   \n",
       "std      0.166634   0.204554        0.177057       0.154685   \n",
       "min      0.009817  -0.020834        0.011466      -0.015067   \n",
       "25%      0.138656   0.248284        0.233014       0.139481   \n",
       "50%      0.183459   0.410842        0.366689       0.256835   \n",
       "75%      0.290588   0.506776        0.444682       0.372075   \n",
       "max      0.701746   0.831466        0.721525       0.490454   \n",
       "\n",
       "       Cricket_match_india  Character_A    weekday  \n",
       "count            24.000000    24.000000  24.000000  \n",
       "mean              0.083333     0.250000   0.125000  \n",
       "std               0.282330     0.442326   0.337832  \n",
       "min               0.000000     0.000000   0.000000  \n",
       "25%               0.000000     0.000000   0.000000  \n",
       "50%               0.000000     0.000000   0.000000  \n",
       "75%               0.000000     0.250000   0.000000  \n",
       "max               1.000000     1.000000   1.000000  "
      ]
     },
     "execution_count": 89,
     "metadata": {},
     "output_type": "execute_result"
    }
   ],
   "source": [
    "df_test.describe()"
   ]
  },
  {
   "cell_type": "code",
   "execution_count": 90,
   "metadata": {},
   "outputs": [],
   "source": [
    "y_test = df_test.pop('Views_show')\n",
    "X_test = df_test"
   ]
  },
  {
   "cell_type": "code",
   "execution_count": 91,
   "metadata": {},
   "outputs": [],
   "source": [
    "X_test = sm.add_constant(X_test)"
   ]
  },
  {
   "cell_type": "code",
   "execution_count": 92,
   "metadata": {},
   "outputs": [],
   "source": [
    "X_test = X_test.drop([\"Visitors\", \"Cricket_match_india\",'Character_A','Views_platform'], axis = 1)\n"
   ]
  },
  {
   "cell_type": "code",
   "execution_count": 93,
   "metadata": {},
   "outputs": [],
   "source": [
    "y_pred = lr.predict(X_test)"
   ]
  },
  {
   "cell_type": "code",
   "execution_count": 94,
   "metadata": {},
   "outputs": [
    {
     "data": {
      "text/plain": [
       "Text(0, 0.5, 'y_pred')"
      ]
     },
     "execution_count": 94,
     "metadata": {},
     "output_type": "execute_result"
    },
    {
     "data": {
      "image/png": "[encoded data removed]",
      "text/plain": [
       "<Figure size 432x288 with 1 Axes>"
      ]
     },
     "metadata": {
      "needs_background": "light"
     },
     "output_type": "display_data"
    }
   ],
   "source": [
    "fig = plt.figure()\n",
    "plt.scatter(y_test, y_pred)\n",
    "fig.suptitle('y_test vs y_pred', fontsize = 20) # Plot heading \n",
    "plt.xlabel('y_test', fontsize = 18) # X-label\n",
    "plt.ylabel('y_pred', fontsize = 16) "
   ]
  },
  {
   "cell_type": "code",
   "execution_count": 95,
   "metadata": {},
   "outputs": [
    {
     "data": {
      "text/plain": [
       "58    0.056619\n",
       "2    -0.014830\n",
       "56    0.135986\n",
       "65    0.079933\n",
       "61    0.310695\n",
       "68    0.193898\n",
       "13    0.091127\n",
       "79    0.110089\n",
       "76    0.145114\n",
       "6     0.039855\n",
       "11    0.415966\n",
       "18    0.588138\n",
       "12    0.102264\n",
       "29    0.327304\n",
       "62    0.185657\n",
       "0     0.011727\n",
       "49    0.187401\n",
       "40    0.352287\n",
       "41    0.258453\n",
       "67    0.573274\n",
       "55    0.183157\n",
       "37    0.233114\n",
       "28    0.356607\n",
       "22    0.202973\n",
       "dtype: float64"
      ]
     },
     "execution_count": 95,
     "metadata": {},
     "output_type": "execute_result"
    }
   ],
   "source": [
    "y_pred"
   ]
  },
  {
   "cell_type": "code",
   "execution_count": 96,
   "metadata": {},
   "outputs": [
    {
     "data": {
      "text/plain": [
       "58    0.091898\n",
       "2     0.164544\n",
       "56    0.161444\n",
       "65    0.058140\n",
       "61    0.270046\n",
       "68    0.257306\n",
       "13    0.127076\n",
       "79    0.009817\n",
       "76    0.126761\n",
       "6     0.190201\n",
       "11    0.509970\n",
       "18    0.569431\n",
       "12    0.245565\n",
       "29    0.352216\n",
       "62    0.142516\n",
       "0     0.123787\n",
       "49    0.144306\n",
       "40    0.382210\n",
       "41    0.258430\n",
       "67    0.701746\n",
       "55    0.176717\n",
       "37    0.202691\n",
       "28    0.366863\n",
       "22    0.150086\n",
       "Name: Views_show, dtype: float64"
      ]
     },
     "execution_count": 96,
     "metadata": {},
     "output_type": "execute_result"
    }
   ],
   "source": [
    "y_test"
   ]
  },
  {
   "cell_type": "code",
   "execution_count": 97,
   "metadata": {},
   "outputs": [],
   "source": [
    "from sklearn.metrics import mean_squared_error, r2_score\n",
    "mse = mean_squared_error(y_test, y_pred)\n",
    "r_squared = r2_score(y_test, y_pred)"
   ]
  },
  {
   "cell_type": "code",
   "execution_count": 98,
   "metadata": {},
   "outputs": [
    {
     "data": {
      "text/plain": [
       "0.005932946250133781"
      ]
     },
     "execution_count": 98,
     "metadata": {},
     "output_type": "execute_result"
    }
   ],
   "source": [
    "mse"
   ]
  },
  {
   "cell_type": "code",
   "execution_count": 99,
   "metadata": {},
   "outputs": [
    {
     "data": {
      "text/plain": [
       "0.7770393468686891"
      ]
     },
     "execution_count": 99,
     "metadata": {},
     "output_type": "execute_result"
    }
   ],
   "source": [
    "r_squared"
   ]
  },
  {
   "cell_type": "code",
   "execution_count": null,
   "metadata": {},
   "outputs": [],
   "source": []
  },
  {
   "cell_type": "code",
   "execution_count": null,
   "metadata": {},
   "outputs": [],
   "source": []
  }
 ],
 "metadata": {
  "kernelspec": {
   "display_name": "Python 3",
   "language": "python",
   "name": "python3"
  },
  "language_info": {
   "codemirror_mode": {
    "name": "ipython",
    "version": 3
   },
   "file_extension": ".py",
   "mimetype": "text/x-python",
   "name": "python",
   "nbconvert_exporter": "python",
   "pygments_lexer": "ipython3",
   "version": "3.8.5"
  }
 },
 "nbformat": 4,
 "nbformat_minor": 4
}
