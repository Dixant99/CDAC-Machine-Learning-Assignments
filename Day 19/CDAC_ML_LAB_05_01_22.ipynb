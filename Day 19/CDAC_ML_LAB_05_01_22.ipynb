{
 "cells": [
  {
   "cell_type": "code",
   "execution_count": 1,
   "metadata": {},
   "outputs": [],
   "source": [
    "import numpy as np\n",
    "import pandas as pd\n",
    "import math\n",
    "import matplotlib.pyplot as plt\n",
    "import matplotlib"
   ]
  },
  {
   "cell_type": "code",
   "execution_count": 2,
   "metadata": {},
   "outputs": [],
   "source": [
    "df = pd.read_csv('D:/Dixant/CDAC/Machine Learning/17-12-21/Mall_Customers.csv')"
   ]
  },
  {
   "cell_type": "code",
   "execution_count": 3,
   "metadata": {},
   "outputs": [
    {
     "data": {
      "text/html": [
       "<div>\n",
       "<style scoped>\n",
       "    .dataframe tbody tr th:only-of-type {\n",
       "        vertical-align: middle;\n",
       "    }\n",
       "\n",
       "    .dataframe tbody tr th {\n",
       "        vertical-align: top;\n",
       "    }\n",
       "\n",
       "    .dataframe thead th {\n",
       "        text-align: right;\n",
       "    }\n",
       "</style>\n",
       "<table border=\"1\" class=\"dataframe\">\n",
       "  <thead>\n",
       "    <tr style=\"text-align: right;\">\n",
       "      <th></th>\n",
       "      <th>CustomerID</th>\n",
       "      <th>Genre</th>\n",
       "      <th>Age</th>\n",
       "      <th>Annual_Income_(k$)</th>\n",
       "      <th>Spending_Score</th>\n",
       "    </tr>\n",
       "  </thead>\n",
       "  <tbody>\n",
       "    <tr>\n",
       "      <th>0</th>\n",
       "      <td>1</td>\n",
       "      <td>Male</td>\n",
       "      <td>19</td>\n",
       "      <td>15</td>\n",
       "      <td>39</td>\n",
       "    </tr>\n",
       "    <tr>\n",
       "      <th>1</th>\n",
       "      <td>2</td>\n",
       "      <td>Male</td>\n",
       "      <td>21</td>\n",
       "      <td>15</td>\n",
       "      <td>81</td>\n",
       "    </tr>\n",
       "    <tr>\n",
       "      <th>2</th>\n",
       "      <td>3</td>\n",
       "      <td>Female</td>\n",
       "      <td>20</td>\n",
       "      <td>16</td>\n",
       "      <td>6</td>\n",
       "    </tr>\n",
       "    <tr>\n",
       "      <th>3</th>\n",
       "      <td>4</td>\n",
       "      <td>Female</td>\n",
       "      <td>23</td>\n",
       "      <td>16</td>\n",
       "      <td>77</td>\n",
       "    </tr>\n",
       "    <tr>\n",
       "      <th>4</th>\n",
       "      <td>5</td>\n",
       "      <td>Female</td>\n",
       "      <td>31</td>\n",
       "      <td>17</td>\n",
       "      <td>40</td>\n",
       "    </tr>\n",
       "  </tbody>\n",
       "</table>\n",
       "</div>"
      ],
      "text/plain": [
       "   CustomerID   Genre  Age  Annual_Income_(k$)  Spending_Score\n",
       "0           1    Male   19                  15              39\n",
       "1           2    Male   21                  15              81\n",
       "2           3  Female   20                  16               6\n",
       "3           4  Female   23                  16              77\n",
       "4           5  Female   31                  17              40"
      ]
     },
     "execution_count": 3,
     "metadata": {},
     "output_type": "execute_result"
    }
   ],
   "source": [
    "df.head()"
   ]
  },
  {
   "cell_type": "code",
   "execution_count": 4,
   "metadata": {},
   "outputs": [
    {
     "data": {
      "text/plain": [
       "<matplotlib.collections.PathCollection at 0x17c39de3c10>"
      ]
     },
     "execution_count": 4,
     "metadata": {},
     "output_type": "execute_result"
    },
    {
     "data": {
      "image/png": "[encoded data removed]",
      "text/plain": [
       "<Figure size 432x288 with 1 Axes>"
      ]
     },
     "metadata": {
      "needs_background": "light"
     },
     "output_type": "display_data"
    }
   ],
   "source": [
    "plt.scatter(x=df['Annual_Income_(k$)'],y=df['Spending_Score'])"
   ]
  },
  {
   "cell_type": "code",
   "execution_count": 5,
   "metadata": {},
   "outputs": [
    {
     "data": {
      "text/plain": [
       "<matplotlib.collections.PathCollection at 0x17c39ed3e80>"
      ]
     },
     "execution_count": 5,
     "metadata": {},
     "output_type": "execute_result"
    },
    {
     "data": {
      "image/png": "[encoded data removed]",
      "text/plain": [
       "<Figure size 432x288 with 1 Axes>"
      ]
     },
     "metadata": {
      "needs_background": "light"
     },
     "output_type": "display_data"
    }
   ],
   "source": [
    "plt.scatter(x=df['Age'],y=df['Spending_Score'])"
   ]
  },
  {
   "cell_type": "code",
   "execution_count": 6,
   "metadata": {},
   "outputs": [
    {
     "data": {
      "text/html": [
       "<div>\n",
       "<style scoped>\n",
       "    .dataframe tbody tr th:only-of-type {\n",
       "        vertical-align: middle;\n",
       "    }\n",
       "\n",
       "    .dataframe tbody tr th {\n",
       "        vertical-align: top;\n",
       "    }\n",
       "\n",
       "    .dataframe thead th {\n",
       "        text-align: right;\n",
       "    }\n",
       "</style>\n",
       "<table border=\"1\" class=\"dataframe\">\n",
       "  <thead>\n",
       "    <tr style=\"text-align: right;\">\n",
       "      <th></th>\n",
       "      <th>Annual_Income_(k$)</th>\n",
       "      <th>Spending_Score</th>\n",
       "    </tr>\n",
       "  </thead>\n",
       "  <tbody>\n",
       "    <tr>\n",
       "      <th>0</th>\n",
       "      <td>15</td>\n",
       "      <td>39</td>\n",
       "    </tr>\n",
       "    <tr>\n",
       "      <th>1</th>\n",
       "      <td>15</td>\n",
       "      <td>81</td>\n",
       "    </tr>\n",
       "    <tr>\n",
       "      <th>2</th>\n",
       "      <td>16</td>\n",
       "      <td>6</td>\n",
       "    </tr>\n",
       "    <tr>\n",
       "      <th>3</th>\n",
       "      <td>16</td>\n",
       "      <td>77</td>\n",
       "    </tr>\n",
       "    <tr>\n",
       "      <th>4</th>\n",
       "      <td>17</td>\n",
       "      <td>40</td>\n",
       "    </tr>\n",
       "    <tr>\n",
       "      <th>...</th>\n",
       "      <td>...</td>\n",
       "      <td>...</td>\n",
       "    </tr>\n",
       "    <tr>\n",
       "      <th>195</th>\n",
       "      <td>120</td>\n",
       "      <td>79</td>\n",
       "    </tr>\n",
       "    <tr>\n",
       "      <th>196</th>\n",
       "      <td>126</td>\n",
       "      <td>28</td>\n",
       "    </tr>\n",
       "    <tr>\n",
       "      <th>197</th>\n",
       "      <td>126</td>\n",
       "      <td>74</td>\n",
       "    </tr>\n",
       "    <tr>\n",
       "      <th>198</th>\n",
       "      <td>137</td>\n",
       "      <td>18</td>\n",
       "    </tr>\n",
       "    <tr>\n",
       "      <th>199</th>\n",
       "      <td>137</td>\n",
       "      <td>83</td>\n",
       "    </tr>\n",
       "  </tbody>\n",
       "</table>\n",
       "<p>200 rows × 2 columns</p>\n",
       "</div>"
      ],
      "text/plain": [
       "     Annual_Income_(k$)  Spending_Score\n",
       "0                    15              39\n",
       "1                    15              81\n",
       "2                    16               6\n",
       "3                    16              77\n",
       "4                    17              40\n",
       "..                  ...             ...\n",
       "195                 120              79\n",
       "196                 126              28\n",
       "197                 126              74\n",
       "198                 137              18\n",
       "199                 137              83\n",
       "\n",
       "[200 rows x 2 columns]"
      ]
     },
     "execution_count": 6,
     "metadata": {},
     "output_type": "execute_result"
    }
   ],
   "source": [
    "df.drop(['CustomerID'],axis= 1 ,inplace=True)\n",
    "df.drop(['Genre'],axis= 1 ,inplace=True)\n",
    "df.drop(['Age'],axis= 1 ,inplace=True)\n",
    "df"
   ]
  },
  {
   "cell_type": "code",
   "execution_count": 7,
   "metadata": {},
   "outputs": [
    {
     "name": "stdout",
     "output_type": "stream",
     "text": [
      "<class 'pandas.core.frame.DataFrame'>\n",
      "RangeIndex: 200 entries, 0 to 199\n",
      "Data columns (total 2 columns):\n",
      " #   Column              Non-Null Count  Dtype\n",
      "---  ------              --------------  -----\n",
      " 0   Annual_Income_(k$)  200 non-null    int64\n",
      " 1   Spending_Score      200 non-null    int64\n",
      "dtypes: int64(2)\n",
      "memory usage: 3.2 KB\n"
     ]
    }
   ],
   "source": [
    "df.info()"
   ]
  },
  {
   "cell_type": "code",
   "execution_count": 8,
   "metadata": {},
   "outputs": [
    {
     "data": {
      "text/plain": [
       "KMeans(n_clusters=5, random_state=42)"
      ]
     },
     "execution_count": 8,
     "metadata": {},
     "output_type": "execute_result"
    }
   ],
   "source": [
    "from sklearn.cluster import KMeans\n",
    "k_means=KMeans(n_clusters=5,random_state=42)\n",
    "k_means.fit(df)"
   ]
  },
  {
   "cell_type": "code",
   "execution_count": 9,
   "metadata": {},
   "outputs": [
    {
     "data": {
      "image/png": "[encoded data removed]",
      "text/plain": [
       "<Figure size 432x288 with 1 Axes>"
      ]
     },
     "metadata": {
      "needs_background": "light"
     },
     "output_type": "display_data"
    }
   ],
   "source": [
    "df['KMeans_labels']=k_means.labels_\n",
    "# Plotting resulting clusters\n",
    "colors=['purple','red','blue','green','orange']\n",
    "plt.figure()\n",
    "plt.scatter(df['Annual_Income_(k$)'],df['Spending_Score'],c=df['KMeans_labels'],cmap=matplotlib.colors.ListedColormap(colors))\n",
    "plt.title('K-Means Clustering',fontsize=20)\n",
    "plt.xlabel('Feature 1',fontsize=14)\n",
    "plt.ylabel('Feature 2',fontsize=14)\n",
    "plt.show()"
   ]
  },
  {
   "cell_type": "code",
   "execution_count": 10,
   "metadata": {},
   "outputs": [
    {
     "data": {
      "text/plain": [
       "AgglomerativeClustering(n_clusters=5)"
      ]
     },
     "execution_count": 10,
     "metadata": {},
     "output_type": "execute_result"
    }
   ],
   "source": [
    "from sklearn.cluster import AgglomerativeClustering\n",
    "model = AgglomerativeClustering(n_clusters=5, affinity='euclidean')\n",
    "model.fit(df[['Annual_Income_(k$)','Spending_Score']])"
   ]
  },
  {
   "cell_type": "code",
   "execution_count": 11,
   "metadata": {},
   "outputs": [
    {
     "data": {
      "image/png": "[encoded data removed]",
      "text/plain": [
       "<Figure size 432x288 with 1 Axes>"
      ]
     },
     "metadata": {
      "needs_background": "light"
     },
     "output_type": "display_data"
    }
   ],
   "source": [
    "df['HR_labels']=model.labels_\n",
    "# Plotting resulting clusters\n",
    "plt.figure()\n",
    "plt.scatter(df['Annual_Income_(k$)'],df['Spending_Score'],c=df['HR_labels'],cmap=matplotlib.colors.ListedColormap(colors))\n",
    "plt.title('Hierarchical Clustering',fontsize=20)\n",
    "plt.xlabel('Feature 1',fontsize=14)\n",
    "plt.ylabel('Feature 2',fontsize=14)\n",
    "plt.show()"
   ]
  },
  {
   "cell_type": "code",
   "execution_count": 12,
   "metadata": {},
   "outputs": [
    {
     "data": {
      "text/plain": [
       "DBSCAN()"
      ]
     },
     "execution_count": 12,
     "metadata": {},
     "output_type": "execute_result"
    }
   ],
   "source": [
    "from sklearn.cluster import DBSCAN\n",
    "dbscan=DBSCAN()\n",
    "dbscan.fit(df[['Annual_Income_(k$)','Spending_Score']])"
   ]
  },
  {
   "cell_type": "code",
   "execution_count": 13,
   "metadata": {},
   "outputs": [
    {
     "data": {
      "image/png": "[encoded data removed]",
      "text/plain": [
       "<Figure size 432x288 with 1 Axes>"
      ]
     },
     "metadata": {
      "needs_background": "light"
     },
     "output_type": "display_data"
    }
   ],
   "source": [
    "df['DBSCAN_labels']=dbscan.labels_\n",
    "# Plotting resulting clusters\n",
    "plt.figure()\n",
    "plt.scatter(df['Annual_Income_(k$)'],df['Spending_Score'],c=df['DBSCAN_labels'],cmap=matplotlib.colors.ListedColormap(colors))\n",
    "plt.title('DBSCAN Clustering',fontsize=20)\n",
    "plt.xlabel('Feature 1',fontsize=14)\n",
    "plt.ylabel('Feature 2',fontsize=14)\n",
    "plt.show()"
   ]
  },
  {
   "cell_type": "code",
   "execution_count": 14,
   "metadata": {},
   "outputs": [],
   "source": [
    "from sklearn.neighbors import NearestNeighbors\n",
    "neigh = NearestNeighbors(n_neighbors=2)\n",
    "nbrs = neigh.fit(df[['Annual_Income_(k$)','Spending_Score']])\n",
    "distances, indices = nbrs.kneighbors(df[['Annual_Income_(k$)','Spending_Score']])"
   ]
  },
  {
   "cell_type": "code",
   "execution_count": 15,
   "metadata": {},
   "outputs": [
    {
     "data": {
      "text/plain": [
       "array([ 2.23606798,  4.12310563,  2.        ,  1.41421356,  2.23606798,\n",
       "        1.41421356,  2.        ,  5.09901951,  3.16227766,  4.47213595,\n",
       "        1.41421356,  4.12310563,  1.41421356,  2.        ,  1.41421356,\n",
       "        2.        ,  3.        ,  6.32455532,  5.83095189,  4.12310563,\n",
       "        3.        ,  1.        ,  5.09901951,  1.        ,  5.        ,\n",
       "        5.09901951,  1.41421356,  8.60232527,  1.41421356,  5.09901951,\n",
       "        3.        ,  4.        ,  3.        ,  5.        ,  3.16227766,\n",
       "        5.09901951,  3.16227766,  3.60555128,  2.82842712,  3.60555128,\n",
       "        1.41421356,  5.        ,  1.41421356,  3.16227766,  2.82842712,\n",
       "        4.        ,  3.16227766,  3.60555128,  0.        ,  0.        ,\n",
       "        2.23606798,  1.        ,  2.23606798,  1.        ,  1.41421356,\n",
       "        3.16227766,  2.23606798,  1.41421356,  1.41421356,  2.        ,\n",
       "        1.        ,  1.        ,  1.41421356,  1.        ,  1.        ,\n",
       "        0.        ,  1.        ,  1.        ,  0.        ,  1.        ,\n",
       "        1.41421356,  5.        ,  2.23606798,  1.41421356,  1.        ,\n",
       "        1.        ,  1.        ,  1.        ,  1.        ,  1.        ,\n",
       "        1.        ,  1.        ,  1.        ,  2.        ,  2.        ,\n",
       "        1.        ,  2.23606798,  2.        ,  2.23606798,  2.23606798,\n",
       "        2.        ,  1.41421356,  1.        ,  1.41421356,  1.        ,\n",
       "        2.        ,  2.        ,  1.        ,  1.        ,  1.        ,\n",
       "        1.        ,  1.        ,  3.        ,  1.        ,  1.        ,\n",
       "        1.        ,  2.        ,  1.        ,  1.41421356,  1.        ,\n",
       "        2.        ,  1.41421356,  1.41421356,  1.        ,  2.        ,\n",
       "        2.        ,  1.41421356,  2.82842712,  2.        ,  1.        ,\n",
       "        1.        ,  3.        ,  2.23606798,  4.47213595,  5.38516481,\n",
       "        2.23606798,  1.41421356,  4.47213595,  2.        ,  0.        ,\n",
       "        2.        ,  0.        ,  1.41421356,  2.23606798,  2.        ,\n",
       "        3.16227766,  2.        ,  1.41421356,  3.16227766,  1.41421356,\n",
       "        2.        ,  4.24264069,  4.12310563,  2.23606798,  3.60555128,\n",
       "        4.47213595,  2.23606798,  1.41421356,  2.        ,  1.        ,\n",
       "        1.        ,  1.        ,  2.        ,  2.        ,  1.        ,\n",
       "        1.        ,  0.        ,  2.        ,  0.        ,  1.41421356,\n",
       "        2.23606798,  5.        ,  5.        ,  4.24264069,  2.23606798,\n",
       "        2.        ,  5.38516481,  3.16227766,  2.23606798,  6.08276253,\n",
       "        1.        ,  2.        ,  3.        ,  3.16227766,  1.        ,\n",
       "        6.08276253,  2.        ,  6.08276253,  5.09901951,  5.38516481,\n",
       "        7.28010989,  2.23606798,  5.09901951,  2.23606798,  7.28010989,\n",
       "        9.05538514,  2.23606798,  2.23606798,  5.38516481,  5.83095189,\n",
       "        2.23606798,  2.23606798, 10.63014581, 11.66190379, 10.63014581,\n",
       "        7.81024968, 13.41640786,  7.81024968, 14.86606875, 14.2126704 ])"
      ]
     },
     "execution_count": 15,
     "metadata": {},
     "output_type": "execute_result"
    }
   ],
   "source": [
    "distances[:,1]"
   ]
  },
  {
   "cell_type": "code",
   "execution_count": null,
   "metadata": {},
   "outputs": [],
   "source": []
  },
  {
   "cell_type": "code",
   "execution_count": 16,
   "metadata": {},
   "outputs": [
    {
     "data": {
      "text/plain": [
       "array([[ 0.        ,  2.23606798],\n",
       "       [ 0.        ,  4.12310563],\n",
       "       [ 0.        ,  2.        ],\n",
       "       [ 0.        ,  1.41421356],\n",
       "       [ 0.        ,  2.23606798],\n",
       "       [ 0.        ,  1.41421356],\n",
       "       [ 0.        ,  2.        ],\n",
       "       [ 0.        ,  5.09901951],\n",
       "       [ 0.        ,  3.16227766],\n",
       "       [ 0.        ,  4.47213595],\n",
       "       [ 0.        ,  1.41421356],\n",
       "       [ 0.        ,  4.12310563],\n",
       "       [ 0.        ,  1.41421356],\n",
       "       [ 0.        ,  2.        ],\n",
       "       [ 0.        ,  1.41421356],\n",
       "       [ 0.        ,  2.        ],\n",
       "       [ 0.        ,  3.        ],\n",
       "       [ 0.        ,  6.32455532],\n",
       "       [ 0.        ,  5.83095189],\n",
       "       [ 0.        ,  4.12310563],\n",
       "       [ 0.        ,  3.        ],\n",
       "       [ 0.        ,  1.        ],\n",
       "       [ 0.        ,  5.09901951],\n",
       "       [ 0.        ,  1.        ],\n",
       "       [ 0.        ,  5.        ],\n",
       "       [ 0.        ,  5.09901951],\n",
       "       [ 0.        ,  1.41421356],\n",
       "       [ 0.        ,  8.60232527],\n",
       "       [ 0.        ,  1.41421356],\n",
       "       [ 0.        ,  5.09901951],\n",
       "       [ 0.        ,  3.        ],\n",
       "       [ 0.        ,  4.        ],\n",
       "       [ 0.        ,  3.        ],\n",
       "       [ 0.        ,  5.        ],\n",
       "       [ 0.        ,  3.16227766],\n",
       "       [ 0.        ,  5.09901951],\n",
       "       [ 0.        ,  3.16227766],\n",
       "       [ 0.        ,  3.60555128],\n",
       "       [ 0.        ,  2.82842712],\n",
       "       [ 0.        ,  3.60555128],\n",
       "       [ 0.        ,  1.41421356],\n",
       "       [ 0.        ,  5.        ],\n",
       "       [ 0.        ,  1.41421356],\n",
       "       [ 0.        ,  3.16227766],\n",
       "       [ 0.        ,  2.82842712],\n",
       "       [ 0.        ,  4.        ],\n",
       "       [ 0.        ,  3.16227766],\n",
       "       [ 0.        ,  3.60555128],\n",
       "       [ 0.        ,  0.        ],\n",
       "       [ 0.        ,  0.        ],\n",
       "       [ 0.        ,  2.23606798],\n",
       "       [ 0.        ,  1.        ],\n",
       "       [ 0.        ,  2.23606798],\n",
       "       [ 0.        ,  1.        ],\n",
       "       [ 0.        ,  1.41421356],\n",
       "       [ 0.        ,  3.16227766],\n",
       "       [ 0.        ,  2.23606798],\n",
       "       [ 0.        ,  1.41421356],\n",
       "       [ 0.        ,  1.41421356],\n",
       "       [ 0.        ,  2.        ],\n",
       "       [ 0.        ,  1.        ],\n",
       "       [ 0.        ,  1.        ],\n",
       "       [ 0.        ,  1.41421356],\n",
       "       [ 0.        ,  1.        ],\n",
       "       [ 0.        ,  1.        ],\n",
       "       [ 0.        ,  0.        ],\n",
       "       [ 0.        ,  1.        ],\n",
       "       [ 0.        ,  1.        ],\n",
       "       [ 0.        ,  0.        ],\n",
       "       [ 0.        ,  1.        ],\n",
       "       [ 0.        ,  1.41421356],\n",
       "       [ 0.        ,  5.        ],\n",
       "       [ 0.        ,  2.23606798],\n",
       "       [ 0.        ,  1.41421356],\n",
       "       [ 0.        ,  1.        ],\n",
       "       [ 0.        ,  1.        ],\n",
       "       [ 0.        ,  1.        ],\n",
       "       [ 0.        ,  1.        ],\n",
       "       [ 0.        ,  1.        ],\n",
       "       [ 0.        ,  1.        ],\n",
       "       [ 0.        ,  1.        ],\n",
       "       [ 0.        ,  1.        ],\n",
       "       [ 0.        ,  1.        ],\n",
       "       [ 0.        ,  2.        ],\n",
       "       [ 0.        ,  2.        ],\n",
       "       [ 0.        ,  1.        ],\n",
       "       [ 0.        ,  2.23606798],\n",
       "       [ 0.        ,  2.        ],\n",
       "       [ 0.        ,  2.23606798],\n",
       "       [ 0.        ,  2.23606798],\n",
       "       [ 0.        ,  2.        ],\n",
       "       [ 0.        ,  1.41421356],\n",
       "       [ 0.        ,  1.        ],\n",
       "       [ 0.        ,  1.41421356],\n",
       "       [ 0.        ,  1.        ],\n",
       "       [ 0.        ,  2.        ],\n",
       "       [ 0.        ,  2.        ],\n",
       "       [ 0.        ,  1.        ],\n",
       "       [ 0.        ,  1.        ],\n",
       "       [ 0.        ,  1.        ],\n",
       "       [ 0.        ,  1.        ],\n",
       "       [ 0.        ,  1.        ],\n",
       "       [ 0.        ,  3.        ],\n",
       "       [ 0.        ,  1.        ],\n",
       "       [ 0.        ,  1.        ],\n",
       "       [ 0.        ,  1.        ],\n",
       "       [ 0.        ,  2.        ],\n",
       "       [ 0.        ,  1.        ],\n",
       "       [ 0.        ,  1.41421356],\n",
       "       [ 0.        ,  1.        ],\n",
       "       [ 0.        ,  2.        ],\n",
       "       [ 0.        ,  1.41421356],\n",
       "       [ 0.        ,  1.41421356],\n",
       "       [ 0.        ,  1.        ],\n",
       "       [ 0.        ,  2.        ],\n",
       "       [ 0.        ,  2.        ],\n",
       "       [ 0.        ,  1.41421356],\n",
       "       [ 0.        ,  2.82842712],\n",
       "       [ 0.        ,  2.        ],\n",
       "       [ 0.        ,  1.        ],\n",
       "       [ 0.        ,  1.        ],\n",
       "       [ 0.        ,  3.        ],\n",
       "       [ 0.        ,  2.23606798],\n",
       "       [ 0.        ,  4.47213595],\n",
       "       [ 0.        ,  5.38516481],\n",
       "       [ 0.        ,  2.23606798],\n",
       "       [ 0.        ,  1.41421356],\n",
       "       [ 0.        ,  4.47213595],\n",
       "       [ 0.        ,  2.        ],\n",
       "       [ 0.        ,  0.        ],\n",
       "       [ 0.        ,  2.        ],\n",
       "       [ 0.        ,  0.        ],\n",
       "       [ 0.        ,  1.41421356],\n",
       "       [ 0.        ,  2.23606798],\n",
       "       [ 0.        ,  2.        ],\n",
       "       [ 0.        ,  3.16227766],\n",
       "       [ 0.        ,  2.        ],\n",
       "       [ 0.        ,  1.41421356],\n",
       "       [ 0.        ,  3.16227766],\n",
       "       [ 0.        ,  1.41421356],\n",
       "       [ 0.        ,  2.        ],\n",
       "       [ 0.        ,  4.24264069],\n",
       "       [ 0.        ,  4.12310563],\n",
       "       [ 0.        ,  2.23606798],\n",
       "       [ 0.        ,  3.60555128],\n",
       "       [ 0.        ,  4.47213595],\n",
       "       [ 0.        ,  2.23606798],\n",
       "       [ 0.        ,  1.41421356],\n",
       "       [ 0.        ,  2.        ],\n",
       "       [ 0.        ,  1.        ],\n",
       "       [ 0.        ,  1.        ],\n",
       "       [ 0.        ,  1.        ],\n",
       "       [ 0.        ,  2.        ],\n",
       "       [ 0.        ,  2.        ],\n",
       "       [ 0.        ,  1.        ],\n",
       "       [ 0.        ,  1.        ],\n",
       "       [ 0.        ,  0.        ],\n",
       "       [ 0.        ,  2.        ],\n",
       "       [ 0.        ,  0.        ],\n",
       "       [ 0.        ,  1.41421356],\n",
       "       [ 0.        ,  2.23606798],\n",
       "       [ 0.        ,  5.        ],\n",
       "       [ 0.        ,  5.        ],\n",
       "       [ 0.        ,  4.24264069],\n",
       "       [ 0.        ,  2.23606798],\n",
       "       [ 0.        ,  2.        ],\n",
       "       [ 0.        ,  5.38516481],\n",
       "       [ 0.        ,  3.16227766],\n",
       "       [ 0.        ,  2.23606798],\n",
       "       [ 0.        ,  6.08276253],\n",
       "       [ 0.        ,  1.        ],\n",
       "       [ 0.        ,  2.        ],\n",
       "       [ 0.        ,  3.        ],\n",
       "       [ 0.        ,  3.16227766],\n",
       "       [ 0.        ,  1.        ],\n",
       "       [ 0.        ,  6.08276253],\n",
       "       [ 0.        ,  2.        ],\n",
       "       [ 0.        ,  6.08276253],\n",
       "       [ 0.        ,  5.09901951],\n",
       "       [ 0.        ,  5.38516481],\n",
       "       [ 0.        ,  7.28010989],\n",
       "       [ 0.        ,  2.23606798],\n",
       "       [ 0.        ,  5.09901951],\n",
       "       [ 0.        ,  2.23606798],\n",
       "       [ 0.        ,  7.28010989],\n",
       "       [ 0.        ,  9.05538514],\n",
       "       [ 0.        ,  2.23606798],\n",
       "       [ 0.        ,  2.23606798],\n",
       "       [ 0.        ,  5.38516481],\n",
       "       [ 0.        ,  5.83095189],\n",
       "       [ 0.        ,  2.23606798],\n",
       "       [ 0.        ,  2.23606798],\n",
       "       [ 0.        , 10.63014581],\n",
       "       [ 0.        , 11.66190379],\n",
       "       [ 0.        , 10.63014581],\n",
       "       [ 0.        ,  7.81024968],\n",
       "       [ 0.        , 13.41640786],\n",
       "       [ 0.        ,  7.81024968],\n",
       "       [ 0.        , 14.86606875],\n",
       "       [ 0.        , 14.2126704 ]])"
      ]
     },
     "execution_count": 16,
     "metadata": {},
     "output_type": "execute_result"
    }
   ],
   "source": [
    "distances"
   ]
  },
  {
   "cell_type": "code",
   "execution_count": 17,
   "metadata": {},
   "outputs": [
    {
     "data": {
      "text/plain": [
       "array([[  0,   4],\n",
       "       [  1,   3],\n",
       "       [  2,   6],\n",
       "       [  3,   5],\n",
       "       [  4,   0],\n",
       "       [  5,   3],\n",
       "       [  6,   2],\n",
       "       [  7,  11],\n",
       "       [  8,   6],\n",
       "       [  9,   5],\n",
       "       [ 10,  12],\n",
       "       [ 11,  19],\n",
       "       [ 12,  10],\n",
       "       [ 13,  15],\n",
       "       [ 14,  10],\n",
       "       [ 15,  13],\n",
       "       [ 16,  20],\n",
       "       [ 17,   9],\n",
       "       [ 18,  26],\n",
       "       [ 19,  11],\n",
       "       [ 20,  16],\n",
       "       [ 21,  23],\n",
       "       [ 22,  30],\n",
       "       [ 23,  21],\n",
       "       [ 24,  34],\n",
       "       [ 25,  29],\n",
       "       [ 26,  28],\n",
       "       [ 27,  17],\n",
       "       [ 28,  26],\n",
       "       [ 29,  25],\n",
       "       [ 30,  32],\n",
       "       [ 31,  37],\n",
       "       [ 32,  30],\n",
       "       [ 33,  41],\n",
       "       [ 34,  36],\n",
       "       [ 35,  25],\n",
       "       [ 36,  34],\n",
       "       [ 37,  39],\n",
       "       [ 38,  44],\n",
       "       [ 39,  37],\n",
       "       [ 40,  42],\n",
       "       [ 41,  33],\n",
       "       [ 42,  40],\n",
       "       [ 43,  51],\n",
       "       [ 44,  38],\n",
       "       [ 45,  43],\n",
       "       [ 46,  52],\n",
       "       [ 47,  54],\n",
       "       [ 49,  48],\n",
       "       [ 49,  48],\n",
       "       [ 50,  52],\n",
       "       [ 51,  53],\n",
       "       [ 52,  50],\n",
       "       [ 53,  51],\n",
       "       [ 54,  57],\n",
       "       [ 55,  48],\n",
       "       [ 56,  58],\n",
       "       [ 57,  54],\n",
       "       [ 58,  62],\n",
       "       [ 59,  57],\n",
       "       [ 60,  61],\n",
       "       [ 61,  60],\n",
       "       [ 62,  58],\n",
       "       [ 63,  65],\n",
       "       [ 64,  66],\n",
       "       [ 68,  65],\n",
       "       [ 66,  64],\n",
       "       [ 67,  69],\n",
       "       [ 68,  65],\n",
       "       [ 69,  67],\n",
       "       [ 70,  73],\n",
       "       [ 71,  59],\n",
       "       [ 72,  67],\n",
       "       [ 73,  70],\n",
       "       [ 74,  77],\n",
       "       [ 75,  76],\n",
       "       [ 76,  75],\n",
       "       [ 77,  74],\n",
       "       [ 78,  80],\n",
       "       [ 79,  82],\n",
       "       [ 80,  78],\n",
       "       [ 81,  75],\n",
       "       [ 82,  79],\n",
       "       [ 83,  79],\n",
       "       [ 84,  81],\n",
       "       [ 85,  74],\n",
       "       [ 86,  88],\n",
       "       [ 87,  90],\n",
       "       [ 88,  86],\n",
       "       [ 89,  96],\n",
       "       [ 90,  87],\n",
       "       [ 91,  93],\n",
       "       [ 92,  99],\n",
       "       [ 93,  91],\n",
       "       [ 94,  98],\n",
       "       [ 95,  97],\n",
       "       [ 96,  92],\n",
       "       [ 97,  92],\n",
       "       [ 98,  94],\n",
       "       [ 99,  92],\n",
       "       [100, 105],\n",
       "       [101, 109],\n",
       "       [102, 117],\n",
       "       [103, 104],\n",
       "       [104, 103],\n",
       "       [105, 100],\n",
       "       [106, 115],\n",
       "       [107, 113],\n",
       "       [108, 105],\n",
       "       [109, 101],\n",
       "       [110, 106],\n",
       "       [111, 103],\n",
       "       [112, 108],\n",
       "       [113, 107],\n",
       "       [114, 109],\n",
       "       [115, 106],\n",
       "       [116, 112],\n",
       "       [117, 119],\n",
       "       [118, 116],\n",
       "       [119, 120],\n",
       "       [120, 119],\n",
       "       [121, 118],\n",
       "       [122, 119],\n",
       "       [123, 127],\n",
       "       [124, 132],\n",
       "       [125, 131],\n",
       "       [126, 132],\n",
       "       [127, 123],\n",
       "       [128, 130],\n",
       "       [129, 131],\n",
       "       [130, 128],\n",
       "       [129, 131],\n",
       "       [132, 126],\n",
       "       [133, 139],\n",
       "       [134, 136],\n",
       "       [135, 143],\n",
       "       [136, 134],\n",
       "       [137, 139],\n",
       "       [138, 128],\n",
       "       [139, 137],\n",
       "       [140, 134],\n",
       "       [141, 149],\n",
       "       [142, 146],\n",
       "       [143, 151],\n",
       "       [144, 138],\n",
       "       [145, 141],\n",
       "       [146, 160],\n",
       "       [147, 159],\n",
       "       [148, 152],\n",
       "       [149, 155],\n",
       "       [150, 154],\n",
       "       [151, 155],\n",
       "       [152, 148],\n",
       "       [153, 157],\n",
       "       [154, 150],\n",
       "       [155, 149],\n",
       "       [158, 156],\n",
       "       [157, 153],\n",
       "       [158, 156],\n",
       "       [159, 147],\n",
       "       [160, 146],\n",
       "       [161, 143],\n",
       "       [162, 156],\n",
       "       [163, 149],\n",
       "       [164, 168],\n",
       "       [165, 171],\n",
       "       [166, 176],\n",
       "       [167, 173],\n",
       "       [168, 164],\n",
       "       [169, 177],\n",
       "       [170, 174],\n",
       "       [171, 165],\n",
       "       [172, 170],\n",
       "       [173, 167],\n",
       "       [174, 170],\n",
       "       [175, 173],\n",
       "       [176, 174],\n",
       "       [177, 169],\n",
       "       [178, 176],\n",
       "       [179, 183],\n",
       "       [180, 184],\n",
       "       [181, 183],\n",
       "       [182, 178],\n",
       "       [183, 181],\n",
       "       [184, 180],\n",
       "       [185, 183],\n",
       "       [186, 190],\n",
       "       [187, 191],\n",
       "       [188, 182],\n",
       "       [189, 183],\n",
       "       [190, 186],\n",
       "       [191, 187],\n",
       "       [192, 194],\n",
       "       [193, 189],\n",
       "       [194, 192],\n",
       "       [195, 197],\n",
       "       [196, 194],\n",
       "       [197, 195],\n",
       "       [198, 196],\n",
       "       [199, 197]], dtype=int64)"
      ]
     },
     "execution_count": 17,
     "metadata": {},
     "output_type": "execute_result"
    }
   ],
   "source": [
    "indices"
   ]
  },
  {
   "cell_type": "code",
   "execution_count": 18,
   "metadata": {},
   "outputs": [
    {
     "data": {
      "image/png": "[encoded data removed]",
      "text/plain": [
       "<Figure size 432x288 with 1 Axes>"
      ]
     },
     "metadata": {
      "needs_background": "light"
     },
     "output_type": "display_data"
    }
   ],
   "source": [
    "# Plotting K-distance Graph\n",
    "distances = np.sort(distances, axis=0)\n",
    "distances = distances[:,1]\n",
    "plt.figure()\n",
    "plt.plot(distances)\n",
    "plt.title('K-distance Graph',fontsize=20)\n",
    "plt.xlabel('Data Points sorted by distance',fontsize=14)\n",
    "plt.ylabel('Epsilon',fontsize=14)\n",
    "plt.show()"
   ]
  },
  {
   "cell_type": "code",
   "execution_count": 22,
   "metadata": {},
   "outputs": [
    {
     "data": {
      "text/plain": [
       "DBSCAN(eps=5)"
      ]
     },
     "execution_count": 22,
     "metadata": {},
     "output_type": "execute_result"
    }
   ],
   "source": [
    "from sklearn.cluster import DBSCAN\n",
    "dbscan_opt=DBSCAN(eps=5,min_samples=5)\n",
    "dbscan_opt.fit(df)\n"
   ]
  },
  {
   "cell_type": "code",
   "execution_count": 23,
   "metadata": {},
   "outputs": [
    {
     "data": {
      "text/plain": [
       "-1    88\n",
       " 1    78\n",
       " 2    10\n",
       " 4     9\n",
       " 3     9\n",
       " 0     6\n",
       "Name: DBSCAN_opt_labels, dtype: int64"
      ]
     },
     "execution_count": 23,
     "metadata": {},
     "output_type": "execute_result"
    }
   ],
   "source": [
    "df['DBSCAN_opt_labels']=dbscan_opt.labels_\n",
    "df['DBSCAN_opt_labels'].value_counts()"
   ]
  },
  {
   "cell_type": "code",
   "execution_count": 30,
   "metadata": {},
   "outputs": [
    {
     "data": {
      "image/png": "[encoded data removed]",
      "text/plain": [
       "<Figure size 432x288 with 1 Axes>"
      ]
     },
     "metadata": {
      "needs_background": "light"
     },
     "output_type": "display_data"
    }
   ],
   "source": [
    "# Plotting the resulting clusters\n",
    "plt.figure()\n",
    "plt.scatter(df['Annual_Income_(k$)'],df['Spending_Score'],c=df['DBSCAN_opt_labels'],cmap=matplotlib.colors.ListedColormap(colors),s=15)\n",
    "plt.title('DBSCAN Clustering',fontsize=20)\n",
    "plt.xlabel('Feature 1',fontsize=14)\n",
    "plt.ylabel('Feature 2',fontsize=14)\n",
    "plt.show()"
   ]
  },
  {
   "cell_type": "code",
   "execution_count": 33,
   "metadata": {},
   "outputs": [
    {
     "ename": "TypeError",
     "evalue": "silhouette_score() missing 1 required positional argument: 'labels'",
     "output_type": "error",
     "traceback": [
      "\u001b[1;31m---------------------------------------------------------------------------\u001b[0m",
      "\u001b[1;31mTypeError\u001b[0m                                 Traceback (most recent call last)",
      "\u001b[1;32m<ipython-input-33-f34346d13e21>\u001b[0m in \u001b[0;36m<module>\u001b[1;34m\u001b[0m\n\u001b[0;32m      1\u001b[0m \u001b[1;32mfrom\u001b[0m \u001b[0msklearn\u001b[0m \u001b[1;32mimport\u001b[0m \u001b[0mmetrics\u001b[0m\u001b[1;33m\u001b[0m\u001b[1;33m\u001b[0m\u001b[0m\n\u001b[1;32m----> 2\u001b[1;33m \u001b[0mprint\u001b[0m\u001b[1;33m(\u001b[0m\u001b[0mmetrics\u001b[0m\u001b[1;33m.\u001b[0m\u001b[0msilhouette_score\u001b[0m\u001b[1;33m(\u001b[0m\u001b[0mdf\u001b[0m\u001b[1;33m)\u001b[0m\u001b[1;33m)\u001b[0m\u001b[1;33m\u001b[0m\u001b[1;33m\u001b[0m\u001b[0m\n\u001b[0m",
      "\u001b[1;32m~\\anaconda3\\lib\\site-packages\\sklearn\\utils\\validation.py\u001b[0m in \u001b[0;36minner_f\u001b[1;34m(*args, **kwargs)\u001b[0m\n\u001b[0;32m     70\u001b[0m                           FutureWarning)\n\u001b[0;32m     71\u001b[0m         \u001b[0mkwargs\u001b[0m\u001b[1;33m.\u001b[0m\u001b[0mupdate\u001b[0m\u001b[1;33m(\u001b[0m\u001b[1;33m{\u001b[0m\u001b[0mk\u001b[0m\u001b[1;33m:\u001b[0m \u001b[0marg\u001b[0m \u001b[1;32mfor\u001b[0m \u001b[0mk\u001b[0m\u001b[1;33m,\u001b[0m \u001b[0marg\u001b[0m \u001b[1;32min\u001b[0m \u001b[0mzip\u001b[0m\u001b[1;33m(\u001b[0m\u001b[0msig\u001b[0m\u001b[1;33m.\u001b[0m\u001b[0mparameters\u001b[0m\u001b[1;33m,\u001b[0m \u001b[0margs\u001b[0m\u001b[1;33m)\u001b[0m\u001b[1;33m}\u001b[0m\u001b[1;33m)\u001b[0m\u001b[1;33m\u001b[0m\u001b[1;33m\u001b[0m\u001b[0m\n\u001b[1;32m---> 72\u001b[1;33m         \u001b[1;32mreturn\u001b[0m \u001b[0mf\u001b[0m\u001b[1;33m(\u001b[0m\u001b[1;33m**\u001b[0m\u001b[0mkwargs\u001b[0m\u001b[1;33m)\u001b[0m\u001b[1;33m\u001b[0m\u001b[1;33m\u001b[0m\u001b[0m\n\u001b[0m\u001b[0;32m     73\u001b[0m     \u001b[1;32mreturn\u001b[0m \u001b[0minner_f\u001b[0m\u001b[1;33m\u001b[0m\u001b[1;33m\u001b[0m\u001b[0m\n\u001b[0;32m     74\u001b[0m \u001b[1;33m\u001b[0m\u001b[0m\n",
      "\u001b[1;31mTypeError\u001b[0m: silhouette_score() missing 1 required positional argument: 'labels'"
     ]
    }
   ],
   "source": [
    "from sklearn import metrics\n",
    "print(metrics.silhouette_score(df))"
   ]
  },
  {
   "cell_type": "code",
   "execution_count": null,
   "metadata": {},
   "outputs": [],
   "source": []
  }
 ],
 "metadata": {
  "kernelspec": {
   "display_name": "Python 3",
   "language": "python",
   "name": "python3"
  },
  "language_info": {
   "codemirror_mode": {
    "name": "ipython",
    "version": 3
   },
   "file_extension": ".py",
   "mimetype": "text/x-python",
   "name": "python",
   "nbconvert_exporter": "python",
   "pygments_lexer": "ipython3",
   "version": "3.8.5"
  }
 },
 "nbformat": 4,
 "nbformat_minor": 4
}
